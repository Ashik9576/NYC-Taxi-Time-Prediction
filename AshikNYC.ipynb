{
  "nbformat": 4,
  "nbformat_minor": 0,
  "metadata": {
    "colab": {
      "name": "AshikNYC.ipynb",
      "provenance": [],
      "collapsed_sections": [
        "Y06xIdG26kRF",
        "K81Vy_0ywMRw",
        "OsdMLaeswjF0",
        "iLjwD-Z5xtU0",
        "Mw3euTvY0MAz",
        "WGu4dJeQ5QUR",
        "vsQGWtr4456U"
      ],
      "include_colab_link": true
    },
    "kernelspec": {
      "display_name": "Python 3",
      "language": "python",
      "name": "python3"
    },
    "language_info": {
      "codemirror_mode": {
        "name": "ipython",
        "version": 3
      },
      "file_extension": ".py",
      "mimetype": "text/x-python",
      "name": "python",
      "nbconvert_exporter": "python",
      "pygments_lexer": "ipython3",
      "version": "3.6.6"
    }
  },
  "cells": [
    {
      "cell_type": "markdown",
      "metadata": {
        "id": "view-in-github",
        "colab_type": "text"
      },
      "source": [
        "<a href=\"https://colab.research.google.com/github/Ashik9576/NYC-Taxi-Time-Prediction/blob/main/AshikNYC.ipynb\" target=\"_parent\"><img src=\"https://colab.research.google.com/assets/colab-badge.svg\" alt=\"Open In Colab\"/></a>"
      ]
    },
    {
      "cell_type": "markdown",
      "metadata": {
        "id": "tOGC-qoyhJeX"
      },
      "source": [
        "# <b><u> Project Title : Taxi trip time Prediction : Predicting total ride duration of taxi trips in New York City</u></b>"
      ]
    },
    {
      "cell_type": "markdown",
      "metadata": {
        "id": "Y06xIdG26kRF"
      },
      "source": [
        "## <b> Problem Description </b>\n",
        "\n",
        "### Your task is to build a model that predicts the total ride duration of taxi trips in New York City. Your primary dataset is one released by the NYC Taxi and Limousine Commission, which includes pickup time, geo-coordinates, number of passengers, and several other variables."
      ]
    },
    {
      "cell_type": "markdown",
      "metadata": {
        "id": "WWeU1f9bwqQq"
      },
      "source": [
        "## <b> Data Description </b>\n",
        "\n",
        "### The dataset is based on the 2016 NYC Yellow Cab trip record data made available in Big Query on Google Cloud Platform. The data was originally published by the NYC Taxi and Limousine Commission (TLC). The data was sampled and cleaned for the purposes of this project. Based on individual trip attributes, you should predict the duration of each trip in the test set.\n",
        "\n",
        "### <b>NYC Taxi Data.csv</b> - the training set (contains 1458644 trip records)\n",
        "\n",
        "\n",
        "### Data fields\n",
        "* #### id - a unique identifier for each trip\n",
        "* #### vendor_id - a code indicating the provider associated with the trip record\n",
        "* #### pickup_datetime - date and time when the meter was engaged\n",
        "* #### dropoff_datetime - date and time when the meter was disengaged\n",
        "* #### passenger_count - the number of passengers in the vehicle (driver entered value)\n",
        "* #### pickup_longitude - the longitude where the meter was engaged\n",
        "* #### pickup_latitude - the latitude where the meter was engaged\n",
        "* #### dropoff_longitude - the longitude where the meter was disengaged\n",
        "* #### dropoff_latitude - the latitude where the meter was disengaged\n",
        "* #### store_and_fwd_flag - This flag indicates whether the trip record was held in vehicle memory before sending to the vendor because the vehicle did not have a connection to the server - Y=store and forward; N=not a store and forward trip\n",
        "* #### trip_duration - duration of the trip in seconds"
      ]
    },
    {
      "cell_type": "markdown",
      "metadata": {
        "id": "K81Vy_0ywMRw"
      },
      "source": [
        "# **Imporing the required Libraries**"
      ]
    },
    {
      "cell_type": "code",
      "metadata": {
        "colab": {
          "base_uri": "https://localhost:8080/"
        },
        "id": "dByMsuzT8Tnw",
        "outputId": "940c63a6-481b-4ae3-d7c1-d718e4282a82"
      },
      "source": [
        "# Importing the libraries\n",
        "!pip install pycountry\n",
        "!pip install haversine\n",
        "\n",
        "import numpy as np\n",
        "import pandas as pd\n",
        "import matplotlib.pyplot as plt\n",
        "%matplotlib inline\n",
        "import seaborn as sns\n",
        "import pycountry as pc\n",
        "import matplotlib.ticker as mtick\n",
        "import plotly.express as px\n",
        "from numpy import math\n",
        "from math import sqrt\n",
        "from sklearn.preprocessing import MinMaxScaler\n",
        "from sklearn.model_selection import train_test_split\n",
        "from sklearn.linear_model import LinearRegression\n",
        "from sklearn.metrics import r2_score\n",
        "from sklearn.metrics import mean_squared_error\n",
        "from sklearn.tree import DecisionTreeRegressor\n",
        "from sklearn.linear_model import Ridge, Lasso\n",
        "from sklearn.model_selection import KFold\n",
        "from sklearn.neighbors import KNeighborsRegressor\n",
        "from datetime import datetime\n",
        "from sklearn.ensemble import RandomForestRegressor\n",
        "from sklearn import metrics\n",
        "from sklearn.model_selection import train_test_split, GridSearchCV\n",
        "from haversine import haversine\n",
        "from sklearn.model_selection import ShuffleSplit\n",
        "import warnings; warnings.simplefilter('ignore')"
      ],
      "execution_count": 123,
      "outputs": [
        {
          "output_type": "stream",
          "name": "stdout",
          "text": [
            "Requirement already satisfied: pycountry in /usr/local/lib/python3.7/dist-packages (20.7.3)\n",
            "Requirement already satisfied: haversine in /usr/local/lib/python3.7/dist-packages (2.5.1)\n"
          ]
        }
      ]
    },
    {
      "cell_type": "code",
      "metadata": {
        "colab": {
          "base_uri": "https://localhost:8080/"
        },
        "id": "K9sK-hnLYbJb",
        "outputId": "91620ec8-08e4-441f-b811-1371a1272fc3"
      },
      "source": [
        "# mounting drive\n",
        "from google.colab import drive\n",
        "drive.mount('/content/drive')"
      ],
      "execution_count": 124,
      "outputs": [
        {
          "output_type": "stream",
          "name": "stdout",
          "text": [
            "Drive already mounted at /content/drive; to attempt to forcibly remount, call drive.mount(\"/content/drive\", force_remount=True).\n"
          ]
        }
      ]
    },
    {
      "cell_type": "markdown",
      "metadata": {
        "id": "OsdMLaeswjF0"
      },
      "source": [
        "# **Loading Data**"
      ]
    },
    {
      "cell_type": "code",
      "metadata": {
        "id": "9E5Aj0J4Ybkl"
      },
      "source": [
        "# creating directory path\n",
        "nyc = pd.read_csv('/content/drive/MyDrive/NYC/NYC Taxi Data.csv')"
      ],
      "execution_count": 125,
      "outputs": []
    },
    {
      "cell_type": "markdown",
      "metadata": {
        "id": "3pEfbF_5y-wn"
      },
      "source": [
        "**Creating Copy of Data**"
      ]
    },
    {
      "cell_type": "code",
      "metadata": {
        "id": "mJSM7ljuYb5x"
      },
      "source": [
        "# creating a copy\n",
        "nycc=nyc.copy()"
      ],
      "execution_count": 126,
      "outputs": []
    },
    {
      "cell_type": "markdown",
      "metadata": {
        "id": "iLjwD-Z5xtU0"
      },
      "source": [
        "# **File Structure and content**"
      ]
    },
    {
      "cell_type": "code",
      "metadata": {
        "colab": {
          "base_uri": "https://localhost:8080/"
        },
        "id": "_C2AuHY-Yb13",
        "outputId": "93b0a1f3-5472-4732-d36f-a723a39fc058"
      },
      "source": [
        "#no. of row and column\n",
        "print(\"We have {} rows.\".format(nycc.shape[0]))\n",
        "print(\"We have {} columns.\".format(nycc.shape[1]))\n",
        "nycc.iloc[1,:]"
      ],
      "execution_count": 127,
      "outputs": [
        {
          "output_type": "stream",
          "name": "stdout",
          "text": [
            "We have 1458644 rows.\n",
            "We have 11 columns.\n"
          ]
        },
        {
          "output_type": "execute_result",
          "data": {
            "text/plain": [
              "id                              id2377394\n",
              "vendor_id                               1\n",
              "pickup_datetime       2016-06-12 00:43:35\n",
              "dropoff_datetime      2016-06-12 00:54:38\n",
              "passenger_count                         1\n",
              "pickup_longitude                 -73.9804\n",
              "pickup_latitude                   40.7386\n",
              "dropoff_longitude                -73.9995\n",
              "dropoff_latitude                  40.7312\n",
              "store_and_fwd_flag                      N\n",
              "trip_duration                         663\n",
              "Name: 1, dtype: object"
            ]
          },
          "metadata": {},
          "execution_count": 127
        }
      ]
    },
    {
      "cell_type": "markdown",
      "metadata": {
        "id": "NmqF3Fe9ztQJ"
      },
      "source": [
        "**At first galance, We have seen that the type of each variable and how they look like.**"
      ]
    },
    {
      "cell_type": "markdown",
      "metadata": {
        "id": "Mw3euTvY0MAz"
      },
      "source": [
        "# **MISSING VALUES**\n",
        "Knowing about missing values is important because they indicate how much we dont's know about our data. Making inferences based on just a few cases is often unwise. In addition, many modelling procedures break down when missing values are involved and the corresponding rows will either have to be removed completely or the values need to be estimated somehow.\n"
      ]
    },
    {
      "cell_type": "code",
      "metadata": {
        "colab": {
          "base_uri": "https://localhost:8080/"
        },
        "id": "LeU_fzc-nsgQ",
        "outputId": "b8661ea8-d482-4d99-d6c6-5f630020ff79"
      },
      "source": [
        "#check null values in Data frame\n",
        "nyc.isnull().sum()\n"
      ],
      "execution_count": 128,
      "outputs": [
        {
          "output_type": "execute_result",
          "data": {
            "text/plain": [
              "id                    0\n",
              "vendor_id             0\n",
              "pickup_datetime       0\n",
              "dropoff_datetime      0\n",
              "passenger_count       0\n",
              "pickup_longitude      0\n",
              "pickup_latitude       0\n",
              "dropoff_longitude     0\n",
              "dropoff_latitude      0\n",
              "store_and_fwd_flag    0\n",
              "trip_duration         0\n",
              "dtype: int64"
            ]
          },
          "metadata": {},
          "execution_count": 128
        }
      ]
    },
    {
      "cell_type": "markdown",
      "metadata": {
        "id": "M0W7uKB22es1"
      },
      "source": [
        "**Fortunately, in this dataset we do not have any missing values which is great**"
      ]
    },
    {
      "cell_type": "markdown",
      "metadata": {
        "id": "WGu4dJeQ5QUR"
      },
      "source": [
        "# **Describing Dataset**"
      ]
    },
    {
      "cell_type": "code",
      "metadata": {
        "colab": {
          "base_uri": "https://localhost:8080/",
          "height": 0
        },
        "id": "bvfd-fswYb72",
        "outputId": "0efd668e-05c3-4c1d-e965-93b4936d88e8"
      },
      "source": [
        "# Visualizing the dataset\n",
        "nycc.head()"
      ],
      "execution_count": 129,
      "outputs": [
        {
          "output_type": "execute_result",
          "data": {
            "text/html": [
              "<div>\n",
              "<style scoped>\n",
              "    .dataframe tbody tr th:only-of-type {\n",
              "        vertical-align: middle;\n",
              "    }\n",
              "\n",
              "    .dataframe tbody tr th {\n",
              "        vertical-align: top;\n",
              "    }\n",
              "\n",
              "    .dataframe thead th {\n",
              "        text-align: right;\n",
              "    }\n",
              "</style>\n",
              "<table border=\"1\" class=\"dataframe\">\n",
              "  <thead>\n",
              "    <tr style=\"text-align: right;\">\n",
              "      <th></th>\n",
              "      <th>id</th>\n",
              "      <th>vendor_id</th>\n",
              "      <th>pickup_datetime</th>\n",
              "      <th>dropoff_datetime</th>\n",
              "      <th>passenger_count</th>\n",
              "      <th>pickup_longitude</th>\n",
              "      <th>pickup_latitude</th>\n",
              "      <th>dropoff_longitude</th>\n",
              "      <th>dropoff_latitude</th>\n",
              "      <th>store_and_fwd_flag</th>\n",
              "      <th>trip_duration</th>\n",
              "    </tr>\n",
              "  </thead>\n",
              "  <tbody>\n",
              "    <tr>\n",
              "      <th>0</th>\n",
              "      <td>id2875421</td>\n",
              "      <td>2</td>\n",
              "      <td>2016-03-14 17:24:55</td>\n",
              "      <td>2016-03-14 17:32:30</td>\n",
              "      <td>1</td>\n",
              "      <td>-73.982155</td>\n",
              "      <td>40.767937</td>\n",
              "      <td>-73.964630</td>\n",
              "      <td>40.765602</td>\n",
              "      <td>N</td>\n",
              "      <td>455</td>\n",
              "    </tr>\n",
              "    <tr>\n",
              "      <th>1</th>\n",
              "      <td>id2377394</td>\n",
              "      <td>1</td>\n",
              "      <td>2016-06-12 00:43:35</td>\n",
              "      <td>2016-06-12 00:54:38</td>\n",
              "      <td>1</td>\n",
              "      <td>-73.980415</td>\n",
              "      <td>40.738564</td>\n",
              "      <td>-73.999481</td>\n",
              "      <td>40.731152</td>\n",
              "      <td>N</td>\n",
              "      <td>663</td>\n",
              "    </tr>\n",
              "    <tr>\n",
              "      <th>2</th>\n",
              "      <td>id3858529</td>\n",
              "      <td>2</td>\n",
              "      <td>2016-01-19 11:35:24</td>\n",
              "      <td>2016-01-19 12:10:48</td>\n",
              "      <td>1</td>\n",
              "      <td>-73.979027</td>\n",
              "      <td>40.763939</td>\n",
              "      <td>-74.005333</td>\n",
              "      <td>40.710087</td>\n",
              "      <td>N</td>\n",
              "      <td>2124</td>\n",
              "    </tr>\n",
              "    <tr>\n",
              "      <th>3</th>\n",
              "      <td>id3504673</td>\n",
              "      <td>2</td>\n",
              "      <td>2016-04-06 19:32:31</td>\n",
              "      <td>2016-04-06 19:39:40</td>\n",
              "      <td>1</td>\n",
              "      <td>-74.010040</td>\n",
              "      <td>40.719971</td>\n",
              "      <td>-74.012268</td>\n",
              "      <td>40.706718</td>\n",
              "      <td>N</td>\n",
              "      <td>429</td>\n",
              "    </tr>\n",
              "    <tr>\n",
              "      <th>4</th>\n",
              "      <td>id2181028</td>\n",
              "      <td>2</td>\n",
              "      <td>2016-03-26 13:30:55</td>\n",
              "      <td>2016-03-26 13:38:10</td>\n",
              "      <td>1</td>\n",
              "      <td>-73.973053</td>\n",
              "      <td>40.793209</td>\n",
              "      <td>-73.972923</td>\n",
              "      <td>40.782520</td>\n",
              "      <td>N</td>\n",
              "      <td>435</td>\n",
              "    </tr>\n",
              "  </tbody>\n",
              "</table>\n",
              "</div>"
            ],
            "text/plain": [
              "          id  vendor_id  ... store_and_fwd_flag trip_duration\n",
              "0  id2875421          2  ...                  N           455\n",
              "1  id2377394          1  ...                  N           663\n",
              "2  id3858529          2  ...                  N          2124\n",
              "3  id3504673          2  ...                  N           429\n",
              "4  id2181028          2  ...                  N           435\n",
              "\n",
              "[5 rows x 11 columns]"
            ]
          },
          "metadata": {},
          "execution_count": 129
        }
      ]
    },
    {
      "cell_type": "code",
      "metadata": {
        "colab": {
          "base_uri": "https://localhost:8080/",
          "height": 0
        },
        "id": "hgdr3_3gYb0B",
        "outputId": "99f8663e-0c37-4912-8199-5495c90e9384"
      },
      "source": [
        "# summery of dataframe\n",
        "nyc.describe()"
      ],
      "execution_count": 130,
      "outputs": [
        {
          "output_type": "execute_result",
          "data": {
            "text/html": [
              "<div>\n",
              "<style scoped>\n",
              "    .dataframe tbody tr th:only-of-type {\n",
              "        vertical-align: middle;\n",
              "    }\n",
              "\n",
              "    .dataframe tbody tr th {\n",
              "        vertical-align: top;\n",
              "    }\n",
              "\n",
              "    .dataframe thead th {\n",
              "        text-align: right;\n",
              "    }\n",
              "</style>\n",
              "<table border=\"1\" class=\"dataframe\">\n",
              "  <thead>\n",
              "    <tr style=\"text-align: right;\">\n",
              "      <th></th>\n",
              "      <th>vendor_id</th>\n",
              "      <th>passenger_count</th>\n",
              "      <th>pickup_longitude</th>\n",
              "      <th>pickup_latitude</th>\n",
              "      <th>dropoff_longitude</th>\n",
              "      <th>dropoff_latitude</th>\n",
              "      <th>trip_duration</th>\n",
              "    </tr>\n",
              "  </thead>\n",
              "  <tbody>\n",
              "    <tr>\n",
              "      <th>count</th>\n",
              "      <td>1.458644e+06</td>\n",
              "      <td>1.458644e+06</td>\n",
              "      <td>1.458644e+06</td>\n",
              "      <td>1.458644e+06</td>\n",
              "      <td>1.458644e+06</td>\n",
              "      <td>1.458644e+06</td>\n",
              "      <td>1.458644e+06</td>\n",
              "    </tr>\n",
              "    <tr>\n",
              "      <th>mean</th>\n",
              "      <td>1.534950e+00</td>\n",
              "      <td>1.664530e+00</td>\n",
              "      <td>-7.397349e+01</td>\n",
              "      <td>4.075092e+01</td>\n",
              "      <td>-7.397342e+01</td>\n",
              "      <td>4.075180e+01</td>\n",
              "      <td>9.594923e+02</td>\n",
              "    </tr>\n",
              "    <tr>\n",
              "      <th>std</th>\n",
              "      <td>4.987772e-01</td>\n",
              "      <td>1.314242e+00</td>\n",
              "      <td>7.090186e-02</td>\n",
              "      <td>3.288119e-02</td>\n",
              "      <td>7.064327e-02</td>\n",
              "      <td>3.589056e-02</td>\n",
              "      <td>5.237432e+03</td>\n",
              "    </tr>\n",
              "    <tr>\n",
              "      <th>min</th>\n",
              "      <td>1.000000e+00</td>\n",
              "      <td>0.000000e+00</td>\n",
              "      <td>-1.219333e+02</td>\n",
              "      <td>3.435970e+01</td>\n",
              "      <td>-1.219333e+02</td>\n",
              "      <td>3.218114e+01</td>\n",
              "      <td>1.000000e+00</td>\n",
              "    </tr>\n",
              "    <tr>\n",
              "      <th>25%</th>\n",
              "      <td>1.000000e+00</td>\n",
              "      <td>1.000000e+00</td>\n",
              "      <td>-7.399187e+01</td>\n",
              "      <td>4.073735e+01</td>\n",
              "      <td>-7.399133e+01</td>\n",
              "      <td>4.073588e+01</td>\n",
              "      <td>3.970000e+02</td>\n",
              "    </tr>\n",
              "    <tr>\n",
              "      <th>50%</th>\n",
              "      <td>2.000000e+00</td>\n",
              "      <td>1.000000e+00</td>\n",
              "      <td>-7.398174e+01</td>\n",
              "      <td>4.075410e+01</td>\n",
              "      <td>-7.397975e+01</td>\n",
              "      <td>4.075452e+01</td>\n",
              "      <td>6.620000e+02</td>\n",
              "    </tr>\n",
              "    <tr>\n",
              "      <th>75%</th>\n",
              "      <td>2.000000e+00</td>\n",
              "      <td>2.000000e+00</td>\n",
              "      <td>-7.396733e+01</td>\n",
              "      <td>4.076836e+01</td>\n",
              "      <td>-7.396301e+01</td>\n",
              "      <td>4.076981e+01</td>\n",
              "      <td>1.075000e+03</td>\n",
              "    </tr>\n",
              "    <tr>\n",
              "      <th>max</th>\n",
              "      <td>2.000000e+00</td>\n",
              "      <td>9.000000e+00</td>\n",
              "      <td>-6.133553e+01</td>\n",
              "      <td>5.188108e+01</td>\n",
              "      <td>-6.133553e+01</td>\n",
              "      <td>4.392103e+01</td>\n",
              "      <td>3.526282e+06</td>\n",
              "    </tr>\n",
              "  </tbody>\n",
              "</table>\n",
              "</div>"
            ],
            "text/plain": [
              "          vendor_id  passenger_count  ...  dropoff_latitude  trip_duration\n",
              "count  1.458644e+06     1.458644e+06  ...      1.458644e+06   1.458644e+06\n",
              "mean   1.534950e+00     1.664530e+00  ...      4.075180e+01   9.594923e+02\n",
              "std    4.987772e-01     1.314242e+00  ...      3.589056e-02   5.237432e+03\n",
              "min    1.000000e+00     0.000000e+00  ...      3.218114e+01   1.000000e+00\n",
              "25%    1.000000e+00     1.000000e+00  ...      4.073588e+01   3.970000e+02\n",
              "50%    2.000000e+00     1.000000e+00  ...      4.075452e+01   6.620000e+02\n",
              "75%    2.000000e+00     2.000000e+00  ...      4.076981e+01   1.075000e+03\n",
              "max    2.000000e+00     9.000000e+00  ...      4.392103e+01   3.526282e+06\n",
              "\n",
              "[8 rows x 7 columns]"
            ]
          },
          "metadata": {},
          "execution_count": 130
        }
      ]
    },
    {
      "cell_type": "code",
      "metadata": {
        "colab": {
          "base_uri": "https://localhost:8080/"
        },
        "id": "reatgjPP33rC",
        "outputId": "552a0ae7-8d92-482c-913a-76f47c57d00f"
      },
      "source": [
        "nycc['store_and_fwd_flag'].value_counts()"
      ],
      "execution_count": 131,
      "outputs": [
        {
          "output_type": "execute_result",
          "data": {
            "text/plain": [
              "N    1450599\n",
              "Y       8045\n",
              "Name: store_and_fwd_flag, dtype: int64"
            ]
          },
          "metadata": {},
          "execution_count": 131
        }
      ]
    },
    {
      "cell_type": "code",
      "metadata": {
        "colab": {
          "base_uri": "https://localhost:8080/"
        },
        "id": "Y2teFJLz4v2q",
        "outputId": "74301ef3-45a8-4917-c560-da51ba978437"
      },
      "source": [
        "nycc['passenger_count'].value_counts()"
      ],
      "execution_count": 132,
      "outputs": [
        {
          "output_type": "execute_result",
          "data": {
            "text/plain": [
              "1    1033540\n",
              "2     210318\n",
              "5      78088\n",
              "3      59896\n",
              "6      48333\n",
              "4      28404\n",
              "0         60\n",
              "7          3\n",
              "9          1\n",
              "8          1\n",
              "Name: passenger_count, dtype: int64"
            ]
          },
          "metadata": {},
          "execution_count": 132
        }
      ]
    },
    {
      "cell_type": "markdown",
      "metadata": {
        "id": "vsQGWtr4456U"
      },
      "source": [
        "# **Reformatting features**\n",
        "\n",
        "There are a variety of features within the dataset and it is important to convert them into the right format such that we can analyse them easily. This would include converting datetime features and string features.\n",
        "\n",
        "Also, one important thing is never to take assumptions without backing it with data. Here, as you can see the trip duration can also be calculated pick up and drop off datetime. We will check whether the given duration is consistent with the calculated trip duration"
      ]
    },
    {
      "cell_type": "code",
      "metadata": {
        "id": "8u3VkscT6_iq",
        "colab": {
          "base_uri": "https://localhost:8080/"
        },
        "outputId": "7b0350fb-59ce-4a67-b6e0-213d00e16c5f"
      },
      "source": [
        "#converting string to datetime features\n",
        "nycc['pickup_datetime']=pd.to_datetime(nycc.pickup_datetime)\n",
        "nycc['dropoff_datetime']=pd.to_datetime(nycc.dropoff_datetime)\n",
        "\n",
        "#converting yes/no flag to 1 and 0\n",
        "nycc['store_and_fwd_flag']=1*(nycc.store_and_fwd_flag.values=='Y')\n",
        "\n",
        "nycc['check_trip_duration'] = (nycc['dropoff_datetime'] - nycc['pickup_datetime']).map(lambda x: x.total_seconds())\n",
        "\n",
        "duration_difference = nycc[np.abs(nycc['check_trip_duration'].values  - nycc['trip_duration'].values) > 1]\n",
        "duration_difference.shape"
      ],
      "execution_count": 133,
      "outputs": [
        {
          "output_type": "execute_result",
          "data": {
            "text/plain": [
              "(0, 12)"
            ]
          },
          "metadata": {},
          "execution_count": 133
        }
      ]
    },
    {
      "cell_type": "markdown",
      "metadata": {
        "id": "cl3QsQukrjBX"
      },
      "source": [
        "This implies that there is no inconsistency in data wrt the drop location and trip duration"
      ]
    },
    {
      "cell_type": "code",
      "metadata": {
        "colab": {
          "base_uri": "https://localhost:8080/",
          "height": 0
        },
        "id": "rB5EsMRk7rMF",
        "outputId": "0be5508e-1837-42b0-9ef1-7e4bbd88f84b"
      },
      "source": [
        "nycc.head()"
      ],
      "execution_count": 134,
      "outputs": [
        {
          "output_type": "execute_result",
          "data": {
            "text/html": [
              "<div>\n",
              "<style scoped>\n",
              "    .dataframe tbody tr th:only-of-type {\n",
              "        vertical-align: middle;\n",
              "    }\n",
              "\n",
              "    .dataframe tbody tr th {\n",
              "        vertical-align: top;\n",
              "    }\n",
              "\n",
              "    .dataframe thead th {\n",
              "        text-align: right;\n",
              "    }\n",
              "</style>\n",
              "<table border=\"1\" class=\"dataframe\">\n",
              "  <thead>\n",
              "    <tr style=\"text-align: right;\">\n",
              "      <th></th>\n",
              "      <th>id</th>\n",
              "      <th>vendor_id</th>\n",
              "      <th>pickup_datetime</th>\n",
              "      <th>dropoff_datetime</th>\n",
              "      <th>passenger_count</th>\n",
              "      <th>pickup_longitude</th>\n",
              "      <th>pickup_latitude</th>\n",
              "      <th>dropoff_longitude</th>\n",
              "      <th>dropoff_latitude</th>\n",
              "      <th>store_and_fwd_flag</th>\n",
              "      <th>trip_duration</th>\n",
              "      <th>check_trip_duration</th>\n",
              "    </tr>\n",
              "  </thead>\n",
              "  <tbody>\n",
              "    <tr>\n",
              "      <th>0</th>\n",
              "      <td>id2875421</td>\n",
              "      <td>2</td>\n",
              "      <td>2016-03-14 17:24:55</td>\n",
              "      <td>2016-03-14 17:32:30</td>\n",
              "      <td>1</td>\n",
              "      <td>-73.982155</td>\n",
              "      <td>40.767937</td>\n",
              "      <td>-73.964630</td>\n",
              "      <td>40.765602</td>\n",
              "      <td>0</td>\n",
              "      <td>455</td>\n",
              "      <td>455.0</td>\n",
              "    </tr>\n",
              "    <tr>\n",
              "      <th>1</th>\n",
              "      <td>id2377394</td>\n",
              "      <td>1</td>\n",
              "      <td>2016-06-12 00:43:35</td>\n",
              "      <td>2016-06-12 00:54:38</td>\n",
              "      <td>1</td>\n",
              "      <td>-73.980415</td>\n",
              "      <td>40.738564</td>\n",
              "      <td>-73.999481</td>\n",
              "      <td>40.731152</td>\n",
              "      <td>0</td>\n",
              "      <td>663</td>\n",
              "      <td>663.0</td>\n",
              "    </tr>\n",
              "    <tr>\n",
              "      <th>2</th>\n",
              "      <td>id3858529</td>\n",
              "      <td>2</td>\n",
              "      <td>2016-01-19 11:35:24</td>\n",
              "      <td>2016-01-19 12:10:48</td>\n",
              "      <td>1</td>\n",
              "      <td>-73.979027</td>\n",
              "      <td>40.763939</td>\n",
              "      <td>-74.005333</td>\n",
              "      <td>40.710087</td>\n",
              "      <td>0</td>\n",
              "      <td>2124</td>\n",
              "      <td>2124.0</td>\n",
              "    </tr>\n",
              "    <tr>\n",
              "      <th>3</th>\n",
              "      <td>id3504673</td>\n",
              "      <td>2</td>\n",
              "      <td>2016-04-06 19:32:31</td>\n",
              "      <td>2016-04-06 19:39:40</td>\n",
              "      <td>1</td>\n",
              "      <td>-74.010040</td>\n",
              "      <td>40.719971</td>\n",
              "      <td>-74.012268</td>\n",
              "      <td>40.706718</td>\n",
              "      <td>0</td>\n",
              "      <td>429</td>\n",
              "      <td>429.0</td>\n",
              "    </tr>\n",
              "    <tr>\n",
              "      <th>4</th>\n",
              "      <td>id2181028</td>\n",
              "      <td>2</td>\n",
              "      <td>2016-03-26 13:30:55</td>\n",
              "      <td>2016-03-26 13:38:10</td>\n",
              "      <td>1</td>\n",
              "      <td>-73.973053</td>\n",
              "      <td>40.793209</td>\n",
              "      <td>-73.972923</td>\n",
              "      <td>40.782520</td>\n",
              "      <td>0</td>\n",
              "      <td>435</td>\n",
              "      <td>435.0</td>\n",
              "    </tr>\n",
              "  </tbody>\n",
              "</table>\n",
              "</div>"
            ],
            "text/plain": [
              "          id  vendor_id  ... trip_duration check_trip_duration\n",
              "0  id2875421          2  ...           455               455.0\n",
              "1  id2377394          1  ...           663               663.0\n",
              "2  id3858529          2  ...          2124              2124.0\n",
              "3  id3504673          2  ...           429               429.0\n",
              "4  id2181028          2  ...           435               435.0\n",
              "\n",
              "[5 rows x 12 columns]"
            ]
          },
          "metadata": {},
          "execution_count": 134
        }
      ]
    },
    {
      "cell_type": "markdown",
      "metadata": {
        "id": "gNdFeIvP9AJr"
      },
      "source": [
        "# **Target Exploration and Data Visualization**\n",
        "In this section we will take at the trip duration is the target variable. It is crucial to understand it in detail as this is what we ate trying to predict accurately."
      ]
    },
    {
      "cell_type": "code",
      "metadata": {
        "colab": {
          "base_uri": "https://localhost:8080/"
        },
        "id": "MUSBYOFw9xg8",
        "outputId": "e30a4a8f-bbcf-41f2-ebd8-fe649b4b823b"
      },
      "source": [
        "nycc['trip_duration'].describe()/3600   # trip_duration in hour"
      ],
      "execution_count": 135,
      "outputs": [
        {
          "output_type": "execute_result",
          "data": {
            "text/plain": [
              "count    405.178889\n",
              "mean       0.266526\n",
              "std        1.454842\n",
              "min        0.000278\n",
              "25%        0.110278\n",
              "50%        0.183889\n",
              "75%        0.298611\n",
              "max      979.522778\n",
              "Name: trip_duration, dtype: float64"
            ]
          },
          "metadata": {},
          "execution_count": 135
        }
      ]
    },
    {
      "cell_type": "markdown",
      "metadata": {
        "id": "cx1On6EA-U6I"
      },
      "source": [
        "Hey! There is a trip with duration of 979 hours. This is a huge outlier and might create problem at the prediction stage. One idea is to log transform the trip duration before prediction to visualize it before."
      ]
    },
    {
      "cell_type": "code",
      "metadata": {
        "colab": {
          "base_uri": "https://localhost:8080/",
          "height": 0
        },
        "id": "VwEazREbR3Cs",
        "outputId": "7ab90157-3f87-417c-c33e-2f616eb5a0c0"
      },
      "source": [
        "nycc['log_trip_duration']=np.log(nycc['trip_duration'].values+1)\n",
        "sns.displot(nycc['log_trip_duration'], kde=False, bins=500)\n",
        "plt.show()"
      ],
      "execution_count": 136,
      "outputs": [
        {
          "output_type": "display_data",
          "data": {
            "image/png": "[encoded data removed]",
            "text/plain": [
              "<Figure size 360x360 with 1 Axes>"
            ]
          },
          "metadata": {
            "needs_background": "light"
          }
        }
      ]
    },
    {
      "cell_type": "markdown",
      "metadata": {
        "id": "zZhEQkpyU5cv"
      },
      "source": [
        "1. There are several suspiciously short rides with less than 10 seconds duration\n",
        "2. As discussed earlier, there are few huge outliers near 12."
      ]
    },
    {
      "cell_type": "markdown",
      "metadata": {
        "id": "NWyMDtnvsCXT"
      },
      "source": [
        "**Univariate Visualization**"
      ]
    },
    {
      "cell_type": "code",
      "metadata": {
        "colab": {
          "base_uri": "https://localhost:8080/",
          "height": 0
        },
        "id": "Pn5mQRFPUmTw",
        "outputId": "ac38d1aa-f211-49f0-d9a5-0d184be530cd"
      },
      "source": [
        "# Passenger count\n",
        "plt.figure(figsize=(10,5))\n",
        "sns.countplot(nycc['passenger_count'])\n",
        "plt.xlabel('Passenger Count')\n",
        "plt.ylabel('Frequency')\n",
        "\n",
        "dict(nycc['passenger_count'].value_counts())"
      ],
      "execution_count": 137,
      "outputs": [
        {
          "output_type": "execute_result",
          "data": {
            "text/plain": [
              "{0: 60,\n",
              " 1: 1033540,\n",
              " 2: 210318,\n",
              " 3: 59896,\n",
              " 4: 28404,\n",
              " 5: 78088,\n",
              " 6: 48333,\n",
              " 7: 3,\n",
              " 8: 1,\n",
              " 9: 1}"
            ]
          },
          "metadata": {},
          "execution_count": 137
        },
        {
          "output_type": "display_data",
          "data": {
            "image/png": "[encoded data removed]",
            "text/plain": [
              "<Figure size 720x360 with 1 Axes>"
            ]
          },
          "metadata": {
            "needs_background": "light"
          }
        }
      ]
    },
    {
      "cell_type": "markdown",
      "metadata": {
        "id": "jJ3wLAOlZMyX"
      },
      "source": [
        "**Most of the trip involves only 1 passenger. There are trips with 7-9 passenger but they are very low in nummber.**"
      ]
    },
    {
      "cell_type": "code",
      "metadata": {
        "colab": {
          "base_uri": "https://localhost:8080/",
          "height": 0
        },
        "id": "n9qTlKQ-WQOv",
        "outputId": "61443c6a-20b3-49ce-8cd6-89ad6af991ca"
      },
      "source": [
        "# Vendor count\n",
        "plt.figure(figsize=(10,5))\n",
        "sns.countplot(nycc['vendor_id'])\n",
        "plt.xlabel('Vendor ID')\n",
        "plt.ylabel('Frequency')"
      ],
      "execution_count": 138,
      "outputs": [
        {
          "output_type": "execute_result",
          "data": {
            "text/plain": [
              "Text(0, 0.5, 'Frequency')"
            ]
          },
          "metadata": {},
          "execution_count": 138
        },
        {
          "output_type": "display_data",
          "data": {
            "image/png": "[encoded data removed]",
            "text/plain": [
              "<Figure size 720x360 with 1 Axes>"
            ]
          },
          "metadata": {
            "needs_background": "light"
          }
        }
      ]
    },
    {
      "cell_type": "markdown",
      "metadata": {
        "id": "XNsBr33rZ4o2"
      },
      "source": [
        "**Vendor 2 has more number of trips as compare to vendor1.**"
      ]
    },
    {
      "cell_type": "code",
      "metadata": {
        "colab": {
          "base_uri": "https://localhost:8080/",
          "height": 0
        },
        "id": "HgAsBF3WXz9_",
        "outputId": "4743a559-58d3-4fa1-995d-2b6221b69a36"
      },
      "source": [
        "# store and fwd flag count\n",
        "plt.figure(figsize=(10,5))\n",
        "sns.countplot(nycc['store_and_fwd_flag'])\n",
        "plt.xlabel('store_and_fwd_flag')\n",
        "plt.ylabel('Frequency')\n",
        "\n",
        "nycc['store_and_fwd_flag'].value_counts()"
      ],
      "execution_count": 139,
      "outputs": [
        {
          "output_type": "execute_result",
          "data": {
            "text/plain": [
              "0    1450599\n",
              "1       8045\n",
              "Name: store_and_fwd_flag, dtype: int64"
            ]
          },
          "metadata": {},
          "execution_count": 139
        },
        {
          "output_type": "display_data",
          "data": {
            "image/png": "[encoded data removed]",
            "text/plain": [
              "<Figure size 720x360 with 1 Axes>"
            ]
          },
          "metadata": {
            "needs_background": "light"
          }
        }
      ]
    },
    {
      "cell_type": "markdown",
      "metadata": {
        "id": "PJw1j4wuaSmr"
      },
      "source": [
        "The store_and_fwd_flag values, indicating whether the trip data was sent immediately to the vendor('0') or held in the memory of the taxi because there was no connection to the server('1'), show that there was almost no storing taking place."
      ]
    },
    {
      "cell_type": "markdown",
      "metadata": {
        "id": "J1CrHa1Bsjdu"
      },
      "source": [
        "Now, we will delve into the datetime features to understand the trend of number of hourly/monthly/daily taxi trips"
      ]
    },
    {
      "cell_type": "code",
      "metadata": {
        "colab": {
          "base_uri": "https://localhost:8080/"
        },
        "id": "j_YELtWHso4g",
        "outputId": "590f0614-24c2-4d5e-ac79-d45a4662ce23"
      },
      "source": [
        "nycc['pickup_datetime'].min(), nycc['pickup_datetime'].max()"
      ],
      "execution_count": 140,
      "outputs": [
        {
          "output_type": "execute_result",
          "data": {
            "text/plain": [
              "(Timestamp('2016-01-01 00:00:17'), Timestamp('2016-06-30 23:59:39'))"
            ]
          },
          "metadata": {},
          "execution_count": 140
        }
      ]
    },
    {
      "cell_type": "markdown",
      "metadata": {
        "id": "64yo8Jc5tUg-"
      },
      "source": [
        "Clearly, These trips are for first 6 months of 2016. To look at trends, we first need to extract week days and hour of day from the pickup date."
      ]
    },
    {
      "cell_type": "code",
      "metadata": {
        "id": "iTzKFdbPYL-H"
      },
      "source": [
        "# creating a new column(day_of_week) from the pickup_datetime column\n",
        "nycc['day_of_week']=nycc['pickup_datetime'].dt.weekday\n",
        "# creating a new column(hour_of_week) from the pickup_datetime column\n",
        "nycc['hour_of_day']=nycc['pickup_datetime'].dt.hour"
      ],
      "execution_count": 141,
      "outputs": []
    },
    {
      "cell_type": "code",
      "metadata": {
        "colab": {
          "base_uri": "https://localhost:8080/",
          "height": 0
        },
        "id": "E3WCuLNVdFNI",
        "outputId": "a47a170f-5ca6-447d-8b86-d8b274d5c605"
      },
      "source": [
        "plt.figure(figsize=(10,5))\n",
        "sns.countplot(nycc['day_of_week'])\n",
        "plt.xlabel('Week Day')\n",
        "plt.ylabel('frequency')"
      ],
      "execution_count": 142,
      "outputs": [
        {
          "output_type": "execute_result",
          "data": {
            "text/plain": [
              "Text(0, 0.5, 'frequency')"
            ]
          },
          "metadata": {},
          "execution_count": 142
        },
        {
          "output_type": "display_data",
          "data": {
            "image/png": "[encoded data removed]",
            "text/plain": [
              "<Figure size 720x360 with 1 Axes>"
            ]
          },
          "metadata": {
            "needs_background": "light"
          }
        }
      ]
    },
    {
      "cell_type": "markdown",
      "metadata": {
        "id": "qfAL08XDi_l0"
      },
      "source": [
        "**Number of pickups for weekends is much lower than weeks days with a peak on Thurusday(4). Note that here weekday is a decimal number, where 0 is Sunday and 6 is Saturday**"
      ]
    },
    {
      "cell_type": "code",
      "metadata": {
        "colab": {
          "base_uri": "https://localhost:8080/",
          "height": 0
        },
        "id": "2hdD7O9udhUb",
        "outputId": "b543c0c4-2103-4d34-ce5e-88b1ce3c8ff9"
      },
      "source": [
        "plt.figure(figsize=(10,5))\n",
        "sns.countplot(nycc['hour_of_day'])\n",
        "plt.xlabel('hour of Day')\n",
        "plt.ylabel('frequency')"
      ],
      "execution_count": 143,
      "outputs": [
        {
          "output_type": "execute_result",
          "data": {
            "text/plain": [
              "Text(0, 0.5, 'frequency')"
            ]
          },
          "metadata": {},
          "execution_count": 143
        },
        {
          "output_type": "display_data",
          "data": {
            "image/png": "[encoded data removed]",
            "text/plain": [
              "<Figure size 720x360 with 1 Axes>"
            ]
          },
          "metadata": {
            "needs_background": "light"
          }
        }
      ]
    },
    {
      "cell_type": "markdown",
      "metadata": {
        "id": "D1o4s2Sdjysw"
      },
      "source": [
        "Number of pickups as expected is highest in late evening. However, it is much lower during the morning peak hours."
      ]
    },
    {
      "cell_type": "markdown",
      "metadata": {
        "id": "O5MqqvvntrP1"
      },
      "source": [
        "**Lattitude & Longitude**"
      ]
    },
    {
      "cell_type": "markdown",
      "metadata": {
        "id": "1neir4PhtzBU"
      },
      "source": [
        "Lets look at the geospatial or location features to check consistency. They should not vary much as we are only considering trips within New York city."
      ]
    },
    {
      "cell_type": "code",
      "metadata": {
        "colab": {
          "base_uri": "https://localhost:8080/",
          "height": 0
        },
        "id": "zmo4cdXBt5ri",
        "outputId": "66817c4b-1f1a-464f-d8a7-c25ed97c9f19"
      },
      "source": [
        "sns.set(style=\"white\", palette=\"muted\", color_codes=True)\n",
        "f, axes = plt.subplots(2,2,figsize=(10, 10), sharex=False, sharey = False)\n",
        "sns.despine(left=True)\n",
        "sns.distplot(nycc['pickup_latitude'].values, label = 'pickup_latitude',color=\"b\",bins = 100, ax=axes[0,0])\n",
        "sns.distplot(nycc['pickup_longitude'].values, label = 'pickup_longitude',color=\"r\",bins =100, ax=axes[1,0])\n",
        "sns.distplot(nycc['dropoff_latitude'].values, label = 'dropoff_latitude',color=\"b\",bins =100, ax=axes[0,1])\n",
        "sns.distplot(nycc['dropoff_longitude'].values, label = 'dropoff_longitude',color=\"r\",bins =100, ax=axes[1,1])\n",
        "plt.setp(axes, yticks=[])\n",
        "plt.tight_layout()\n",
        "plt.show()"
      ],
      "execution_count": 144,
      "outputs": [
        {
          "output_type": "display_data",
          "data": {
            "image/png": "[encoded data removed]",
            "text/plain": [
              "<Figure size 720x720 with 4 Axes>"
            ]
          },
          "metadata": {}
        }
      ]
    },
    {
      "cell_type": "markdown",
      "metadata": {
        "id": "WaELKTz1u9ZV"
      },
      "source": [
        "Findings - (Here, red represents pickup and dropoff Longitudes & blue represents pickup & dropoff lattitudes)\n",
        "\n",
        "1. From the plot above it is clear that pick and drop latitude are centered around 40 to 41, and longitude are situated around -74 to -73.\n",
        "2. Some extreme co-ordinates has squeezed the plot such that we see a spike here\n",
        "3. A good idea is to remove these outliers and look at the distribution more closely"
      ]
    },
    {
      "cell_type": "code",
      "metadata": {
        "colab": {
          "base_uri": "https://localhost:8080/",
          "height": 0
        },
        "id": "IiGlua2QvKRm",
        "outputId": "20fe7712-9ad7-401d-e271-0db9d9d69dce"
      },
      "source": [
        "nycc = nycc.loc[(nycc.pickup_latitude > 40.6) & (nycc.pickup_latitude < 40.9)]\n",
        "nycc = nycc.loc[(nycc.dropoff_latitude>40.6) & (nycc.dropoff_latitude < 40.9)]\n",
        "nycc = nycc.loc[(nycc.dropoff_longitude > -74.05) & (nycc.dropoff_longitude < -73.7)]\n",
        "nycc = nycc.loc[(nycc.pickup_longitude > -74.05) & (nycc.pickup_longitude < -73.7)]\n",
        "df_data_new = nycc.copy()\n",
        "sns.set(style=\"white\", palette=\"muted\", color_codes=True)\n",
        "f, axes = plt.subplots(2,2,figsize=(10, 10), sharex=False, sharey = False)#\n",
        "sns.despine(left=True)\n",
        "sns.distplot(df_data_new['pickup_latitude'].values, label = 'pickup_latitude',color=\"b\",bins = 100, ax=axes[0,0])\n",
        "sns.distplot(df_data_new['pickup_longitude'].values, label = 'pickup_longitude',color=\"r\",bins =100, ax=axes[0,1])\n",
        "sns.distplot(df_data_new['dropoff_latitude'].values, label = 'dropoff_latitude',color=\"b\",bins =100, ax=axes[1, 0])\n",
        "sns.distplot(df_data_new['dropoff_longitude'].values, label = 'dropoff_longitude',color=\"r\",bins =100, ax=axes[1, 1])\n",
        "plt.setp(axes, yticks=[])\n",
        "plt.tight_layout()\n",
        "\n",
        "plt.show()"
      ],
      "execution_count": 145,
      "outputs": [
        {
          "output_type": "display_data",
          "data": {
            "image/png": "[encoded data removed]",
            "text/plain": [
              "<Figure size 720x720 with 4 Axes>"
            ]
          },
          "metadata": {}
        }
      ]
    },
    {
      "cell_type": "markdown",
      "metadata": {
        "id": "FgvZkd8qvuj5"
      },
      "source": [
        "* We have a much better view of the distribution of coordinates instead of spikes. And we see that most trips are concentrated between these lat long only with a few significant clusters.\n",
        "* These clusters are represented by the numerous peaks in the lattitude and longitude histograms"
      ]
    },
    {
      "cell_type": "markdown",
      "metadata": {
        "id": "ajGfblKlv2Dq"
      },
      "source": [
        "**Bivariate Relations with Target**\n",
        "\n",
        "---\n",
        "\n",
        "\n",
        "Now that we have gone through all the basic features one by one. Let us start looking at their relation with the target. This will help us in selecting and extracting features at the modelling stage."
      ]
    },
    {
      "cell_type": "code",
      "metadata": {
        "colab": {
          "base_uri": "https://localhost:8080/"
        },
        "id": "BpshJ4o_vc5t",
        "outputId": "753b8477-1b4e-4a30-fb64-be16173fe5b1"
      },
      "source": [
        "nycc.columns"
      ],
      "execution_count": 146,
      "outputs": [
        {
          "output_type": "execute_result",
          "data": {
            "text/plain": [
              "Index(['id', 'vendor_id', 'pickup_datetime', 'dropoff_datetime',\n",
              "       'passenger_count', 'pickup_longitude', 'pickup_latitude',\n",
              "       'dropoff_longitude', 'dropoff_latitude', 'store_and_fwd_flag',\n",
              "       'trip_duration', 'check_trip_duration', 'log_trip_duration',\n",
              "       'day_of_week', 'hour_of_day'],\n",
              "      dtype='object')"
            ]
          },
          "metadata": {},
          "execution_count": 146
        }
      ]
    },
    {
      "cell_type": "markdown",
      "metadata": {
        "id": "xS99EHh7wtVY"
      },
      "source": [
        "**Trip Duration vs Weekday**\n",
        "\n",
        "For different week days, the trip durations can vary as different week days might have different traffic densities especially the weekends might have a much different patterns as compared to working days. Weekday is taken as a decimal number, where 0 - Sunday and 6 is Saturday."
      ]
    },
    {
      "cell_type": "code",
      "metadata": {
        "colab": {
          "base_uri": "https://localhost:8080/",
          "height": 0
        },
        "id": "6x4jsZj9yZk0",
        "outputId": "5ddc5acc-c917-44ef-cff1-be2f808e1be8"
      },
      "source": [
        "nycc.head()"
      ],
      "execution_count": 147,
      "outputs": [
        {
          "output_type": "execute_result",
          "data": {
            "text/html": [
              "<div>\n",
              "<style scoped>\n",
              "    .dataframe tbody tr th:only-of-type {\n",
              "        vertical-align: middle;\n",
              "    }\n",
              "\n",
              "    .dataframe tbody tr th {\n",
              "        vertical-align: top;\n",
              "    }\n",
              "\n",
              "    .dataframe thead th {\n",
              "        text-align: right;\n",
              "    }\n",
              "</style>\n",
              "<table border=\"1\" class=\"dataframe\">\n",
              "  <thead>\n",
              "    <tr style=\"text-align: right;\">\n",
              "      <th></th>\n",
              "      <th>id</th>\n",
              "      <th>vendor_id</th>\n",
              "      <th>pickup_datetime</th>\n",
              "      <th>dropoff_datetime</th>\n",
              "      <th>passenger_count</th>\n",
              "      <th>pickup_longitude</th>\n",
              "      <th>pickup_latitude</th>\n",
              "      <th>dropoff_longitude</th>\n",
              "      <th>dropoff_latitude</th>\n",
              "      <th>store_and_fwd_flag</th>\n",
              "      <th>trip_duration</th>\n",
              "      <th>check_trip_duration</th>\n",
              "      <th>log_trip_duration</th>\n",
              "      <th>day_of_week</th>\n",
              "      <th>hour_of_day</th>\n",
              "    </tr>\n",
              "  </thead>\n",
              "  <tbody>\n",
              "    <tr>\n",
              "      <th>0</th>\n",
              "      <td>id2875421</td>\n",
              "      <td>2</td>\n",
              "      <td>2016-03-14 17:24:55</td>\n",
              "      <td>2016-03-14 17:32:30</td>\n",
              "      <td>1</td>\n",
              "      <td>-73.982155</td>\n",
              "      <td>40.767937</td>\n",
              "      <td>-73.964630</td>\n",
              "      <td>40.765602</td>\n",
              "      <td>0</td>\n",
              "      <td>455</td>\n",
              "      <td>455.0</td>\n",
              "      <td>6.122493</td>\n",
              "      <td>0</td>\n",
              "      <td>17</td>\n",
              "    </tr>\n",
              "    <tr>\n",
              "      <th>1</th>\n",
              "      <td>id2377394</td>\n",
              "      <td>1</td>\n",
              "      <td>2016-06-12 00:43:35</td>\n",
              "      <td>2016-06-12 00:54:38</td>\n",
              "      <td>1</td>\n",
              "      <td>-73.980415</td>\n",
              "      <td>40.738564</td>\n",
              "      <td>-73.999481</td>\n",
              "      <td>40.731152</td>\n",
              "      <td>0</td>\n",
              "      <td>663</td>\n",
              "      <td>663.0</td>\n",
              "      <td>6.498282</td>\n",
              "      <td>6</td>\n",
              "      <td>0</td>\n",
              "    </tr>\n",
              "    <tr>\n",
              "      <th>2</th>\n",
              "      <td>id3858529</td>\n",
              "      <td>2</td>\n",
              "      <td>2016-01-19 11:35:24</td>\n",
              "      <td>2016-01-19 12:10:48</td>\n",
              "      <td>1</td>\n",
              "      <td>-73.979027</td>\n",
              "      <td>40.763939</td>\n",
              "      <td>-74.005333</td>\n",
              "      <td>40.710087</td>\n",
              "      <td>0</td>\n",
              "      <td>2124</td>\n",
              "      <td>2124.0</td>\n",
              "      <td>7.661527</td>\n",
              "      <td>1</td>\n",
              "      <td>11</td>\n",
              "    </tr>\n",
              "    <tr>\n",
              "      <th>3</th>\n",
              "      <td>id3504673</td>\n",
              "      <td>2</td>\n",
              "      <td>2016-04-06 19:32:31</td>\n",
              "      <td>2016-04-06 19:39:40</td>\n",
              "      <td>1</td>\n",
              "      <td>-74.010040</td>\n",
              "      <td>40.719971</td>\n",
              "      <td>-74.012268</td>\n",
              "      <td>40.706718</td>\n",
              "      <td>0</td>\n",
              "      <td>429</td>\n",
              "      <td>429.0</td>\n",
              "      <td>6.063785</td>\n",
              "      <td>2</td>\n",
              "      <td>19</td>\n",
              "    </tr>\n",
              "    <tr>\n",
              "      <th>4</th>\n",
              "      <td>id2181028</td>\n",
              "      <td>2</td>\n",
              "      <td>2016-03-26 13:30:55</td>\n",
              "      <td>2016-03-26 13:38:10</td>\n",
              "      <td>1</td>\n",
              "      <td>-73.973053</td>\n",
              "      <td>40.793209</td>\n",
              "      <td>-73.972923</td>\n",
              "      <td>40.782520</td>\n",
              "      <td>0</td>\n",
              "      <td>435</td>\n",
              "      <td>435.0</td>\n",
              "      <td>6.077642</td>\n",
              "      <td>5</td>\n",
              "      <td>13</td>\n",
              "    </tr>\n",
              "  </tbody>\n",
              "</table>\n",
              "</div>"
            ],
            "text/plain": [
              "          id  vendor_id  ... day_of_week hour_of_day\n",
              "0  id2875421          2  ...           0          17\n",
              "1  id2377394          1  ...           6           0\n",
              "2  id3858529          2  ...           1          11\n",
              "3  id3504673          2  ...           2          19\n",
              "4  id2181028          2  ...           5          13\n",
              "\n",
              "[5 rows x 15 columns]"
            ]
          },
          "metadata": {},
          "execution_count": 147
        }
      ]
    },
    {
      "cell_type": "code",
      "metadata": {
        "colab": {
          "base_uri": "https://localhost:8080/",
          "height": 0
        },
        "id": "OJ85xQsAyr_2",
        "outputId": "5fb7bb28-ec37-4323-806e-73e390e79e11"
      },
      "source": [
        "summary_wdays_avg_duration = pd.DataFrame(nycc.groupby(['day_of_week'])['trip_duration'].median())\n",
        "X=[0,1,2,3,4,5,6]\n",
        "Y=summary_wdays_avg_duration['trip_duration']\n",
        "sns.lineplot(X,Y)\n",
        "plt.xlabel(\"Week_day\")\n"
      ],
      "execution_count": 148,
      "outputs": [
        {
          "output_type": "execute_result",
          "data": {
            "text/plain": [
              "Text(0.5, 0, 'Week_day')"
            ]
          },
          "metadata": {},
          "execution_count": 148
        },
        {
          "output_type": "display_data",
          "data": {
            "image/png": "[encoded data removed]",
            "text/plain": [
              "<Figure size 432x288 with 1 Axes>"
            ]
          },
          "metadata": {}
        }
      ]
    },
    {
      "cell_type": "markdown",
      "metadata": {
        "id": "3L96_01e8UHZ"
      },
      "source": [
        "**vendor_id vs Trip Duration**\n",
        "\n",
        "Let's check how the trip duration varies for different vendors."
      ]
    },
    {
      "cell_type": "code",
      "metadata": {
        "colab": {
          "base_uri": "https://localhost:8080/",
          "height": 0
        },
        "id": "vZGgR2NC8D4I",
        "outputId": "06e58a6a-bbbb-44d2-da2a-5edb7805efe4"
      },
      "source": [
        "plt.figure(figsize=(10, 6))\n",
        "sns.boxplot(x=\"vendor_id\", y=\"trip_duration\", data=nycc)\n",
        "plt.show()"
      ],
      "execution_count": 149,
      "outputs": [
        {
          "output_type": "display_data",
          "data": {
            "image/png": "[encoded data removed]",
            "text/plain": [
              "<Figure size 720x432 with 1 Axes>"
            ]
          },
          "metadata": {}
        }
      ]
    },
    {
      "cell_type": "markdown",
      "metadata": {
        "id": "AY0UkEmG8edf"
      },
      "source": [
        "Woah! This did not came out as expected. The only thing I can see from this boxplot is that for vendor 2, there are a number of outliers exceeding 24 hours while vendor 1 does not have such long trips.\n",
        "\n",
        "There could be 2 solutions to this:\n",
        "\n",
        "1. Remove the huge outliers and plot again\n",
        "2. Look at median trip duration for both vendors on hourly basis\n",
        "Let's try the first technique now and check trips below 50000 seconds only"
      ]
    },
    {
      "cell_type": "code",
      "metadata": {
        "colab": {
          "base_uri": "https://localhost:8080/",
          "height": 0
        },
        "id": "HTE9jrvs8LTj",
        "outputId": "04bfd205-5c79-404b-a584-85970e23a18b"
      },
      "source": [
        "plt.figure(figsize=(22, 6))\n",
        "df_sub = nycc[nycc['trip_duration'] < 50000]\n",
        "sns.boxplot(x=\"vendor_id\", y=\"trip_duration\", data=df_sub)\n",
        "plt.show()"
      ],
      "execution_count": 150,
      "outputs": [
        {
          "output_type": "display_data",
          "data": {
            "image/png": "[encoded data removed]",
            "text/plain": [
              "<Figure size 1584x432 with 1 Axes>"
            ]
          },
          "metadata": {}
        }
      ]
    },
    {
      "cell_type": "markdown",
      "metadata": {
        "id": "FHhggEAP84MQ"
      },
      "source": [
        "\n",
        "As you can see, we were in a false perception earlier that vendor 1 had more outliers. Since the median is just around 600 seconds, we observe that vendor 2 has many more outliers as compared to vendor 1. Next, to confirm this, we will quickly look at the mean wrt day of week for both vendors using tsplot (time series plot) from seaborn."
      ]
    },
    {
      "cell_type": "markdown",
      "metadata": {
        "id": "pnyBulYN9Glg"
      },
      "source": [
        "**Trip Duration vs Passenger Count**"
      ]
    },
    {
      "cell_type": "code",
      "metadata": {
        "colab": {
          "base_uri": "https://localhost:8080/",
          "height": 0
        },
        "id": "BPxavr598x98",
        "outputId": "8dec05bc-7b9e-4f35-a979-2e6763f41655"
      },
      "source": [
        "nycc.passenger_count.value_counts()\n",
        "plt.figure(figsize=(15, 6))\n",
        "df_sub = nycc[nycc['trip_duration'] < 10000]\n",
        "sns.boxplot(x=\"passenger_count\", y=\"trip_duration\", data=df_sub)\n",
        "plt.show()\n",
        "\n"
      ],
      "execution_count": 151,
      "outputs": [
        {
          "output_type": "display_data",
          "data": {
            "image/png": "[encoded data removed]",
            "text/plain": [
              "<Figure size 1080x432 with 1 Axes>"
            ]
          },
          "metadata": {}
        }
      ]
    },
    {
      "cell_type": "markdown",
      "metadata": {
        "id": "lItksRXi9xtX"
      },
      "source": [
        "* The boxplot clearly shows that there not much of a difference in distribution for the most frequently occuring passenger count values - 1, 2, 3.\n",
        "* Another key observation is that the number of outliers are reduced for higher passenger counts but that only comes down to the individual frequencies of each passenger count."
      ]
    },
    {
      "cell_type": "markdown",
      "metadata": {
        "id": "Osy9Ct7G-mmT"
      },
      "source": [
        "**Correlation Heatmap**\n",
        "\n",
        "Let us quickly look at the correlation heatmap to check the correlations amongst all features."
      ]
    },
    {
      "cell_type": "code",
      "metadata": {
        "colab": {
          "base_uri": "https://localhost:8080/",
          "height": 0
        },
        "id": "tPk8J-0H-GaV",
        "outputId": "fdb06635-3b3c-49e5-e3b3-6331acee0ca3"
      },
      "source": [
        "plt.figure(figsize=(22, 6))\n",
        "df = nycc.drop(['id', 'pickup_datetime', 'dropoff_datetime',\n",
        "       'passenger_count','check_trip_duration','log_trip_duration'],\n",
        "        axis=1)\n",
        "corr = df.apply(lambda x: pd.factorize(x)[0]).corr()\n",
        "ax = sns.heatmap(corr, xticklabels=corr.columns, yticklabels=corr.columns, \n",
        "                 linewidths=.2, cmap=\"Reds\")"
      ],
      "execution_count": 152,
      "outputs": [
        {
          "output_type": "display_data",
          "data": {
            "image/png": "[encoded data removed]",
            "text/plain": [
              "<Figure size 1584x432 with 2 Axes>"
            ]
          },
          "metadata": {}
        }
      ]
    },
    {
      "cell_type": "markdown",
      "metadata": {
        "id": "0T9urHLZY5QF"
      },
      "source": [
        "# **Preprocessing & Feature Extraction**\n",
        "As is clear from the previous modules, we can only feed numeric features as input to our models. So our next task is to convert the features in numeric form. It is time to jump into getting our data ready for feeding into the model but before that it is important to use the variables to do some feature engineering as t.\n",
        "\n",
        "Some of my ideas to create new variables and the reasons are as follows\n",
        "\n",
        "* Difference between pickup and dropoff latitude - will give an idea about the distance covered which could be predictive\n",
        "* Difference between pickup and dropoff longitude - same reason as above\n",
        "* Haversine distance between pickup and dropoff co-ordinates - to capture the actual distance travelled\n",
        "* Pickup minute - since pickup hour is an important variable, the minute of pickup might well have been predictive\n",
        "* Pickup day of year - same reason as above"
      ]
    },
    {
      "cell_type": "markdown",
      "metadata": {
        "id": "mTBGJY40ZOeD"
      },
      "source": [
        "**DateTime Conversion**\n",
        "\n",
        "The datetime features from csv files are read as strings and in order to easily extract features like day of week, month, year etc. we need to convert it into datetime format of python."
      ]
    },
    {
      "cell_type": "code",
      "metadata": {
        "id": "kPDMAb55-viO"
      },
      "source": [
        "# converting strings to datetime features\n",
        "nycc['pickup_datetime'] = pd.to_datetime(nycc.pickup_datetime)\n",
        "nycc['dropoff_datetime'] = pd.to_datetime(nycc.dropoff_datetime)"
      ],
      "execution_count": 153,
      "outputs": []
    },
    {
      "cell_type": "code",
      "metadata": {
        "id": "0PGvGjNeZnQe"
      },
      "source": [
        "# Log transform the Y values\n",
        "df_y = np.log1p(nycc['trip_duration'])\n",
        "\n",
        "# Add some datetime features\n",
        "df.loc[:, 'pickup_weekday'] = nycc['pickup_datetime'].dt.weekday\n",
        "df.loc[:, 'pickup_hour_weekofyear'] = nycc['pickup_datetime'].dt.weekofyear\n",
        "df.loc[:, 'pickup_hour'] = nycc['pickup_datetime'].dt.hour\n",
        "df.loc[:, 'pickup_minute'] = nycc['pickup_datetime'].dt.minute\n",
        "df.loc[:, 'pickup_dt'] = (nycc['pickup_datetime'] - nycc['pickup_datetime'].min()).dt.total_seconds()\n",
        "#df.loc[:, 'pickup_week_hour'] = nycc['pickup_weekday'] * 24 + nycc['pickup_hour']"
      ],
      "execution_count": 154,
      "outputs": []
    },
    {
      "cell_type": "markdown",
      "metadata": {
        "id": "YpvnxnUXcMvg"
      },
      "source": [
        "**Distance Features**\n",
        "\n",
        "As discussed earlier, distance features must be important and must be included here\n",
        "\n",
        "**Eucledian Distance** \n",
        "\n",
        "Let's Calculate the Eucledian distance between pickup and drop off location to get some idea on how far the pickup and dropoff points are since this would definitely impact the trip duration even though we know that cars can't fly"
      ]
    },
    {
      "cell_type": "code",
      "metadata": {
        "id": "TeAokjMZcBl3"
      },
      "source": [
        "\n",
        "#displacement\n",
        "y_dist= nycc['pickup_longitude'] - nycc['dropoff_longitude']\n",
        "x_dist = nycc['pickup_latitude'] - nycc['dropoff_latitude']\n",
        "\n",
        "#square distance\n",
        "nycc['dist_sq'] = (y_dist ** 2) + (x_dist ** 2)\n",
        "\n",
        "#distance\n",
        "nycc['dist_sqrt'] = nycc['dist_sq'] ** 0.5"
      ],
      "execution_count": 155,
      "outputs": []
    },
    {
      "cell_type": "markdown",
      "metadata": {
        "id": "-B2khBBwcxBs"
      },
      "source": [
        "**Haversine Distance**\n",
        "\n",
        "Let's calculate the distance (km) between pickup and dropoff points. The haversine formula determines the great-circle distance between two points on a sphere given their longitudes and latitudes. We will also calculate the approximate angle at which the dropoff location lies wrt the pickup location. pd.DataFrame.apply() would be too slow so the haversine function is rewritten to handle arrays.\n",
        "\n",
        "Haversine direction represents the information of angle of the line connecting the dropoff and pickup point over the surface of earth wrt equator."
      ]
    },
    {
      "cell_type": "code",
      "metadata": {
        "id": "d_llzDcYbddG"
      },
      "source": [
        "def haversine_array(lat1, lng1, lat2, lng2):\n",
        "    lat1, lng1, lat2, lng2 = map(np.radians, (lat1, lng1, lat2, lng2))\n",
        "    AVG_EARTH_RADIUS = 6371  # in km\n",
        "    lat = lat2 - lat1\n",
        "    lng = lng2 - lng1\n",
        "    d = np.sin(lat * 0.5) ** 2 + np.cos(lat1) * np.cos(lat2) * np.sin(lng * 0.5) ** 2\n",
        "    h = 2 * AVG_EARTH_RADIUS * np.arcsin(np.sqrt(d))\n",
        "    return h\n",
        "\n",
        "def direction_array(lat1, lng1, lat2, lng2):\n",
        "    AVG_EARTH_RADIUS = 6371  # in km\n",
        "    lng_delta_rad = np.radians(lng2 - lng1)\n",
        "    lat1, lng1, lat2, lng2 = map(np.radians, (lat1, lng1, lat2, lng2))\n",
        "    y = np.sin(lng_delta_rad) * np.cos(lat2)\n",
        "    x = np.cos(lat1) * np.sin(lat2) - np.sin(lat1) * np.cos(lat2) * np.cos(lng_delta_rad)\n",
        "    return np.degrees(np.arctan2(y, x))\n",
        "\n",
        "\n",
        "nycc['haversine_distance'] = haversine_array(nycc['pickup_latitude'].values, \n",
        "                                                     nycc['pickup_longitude'].values, \n",
        "                                                     nycc['dropoff_latitude'].values, \n",
        "                                                     nycc['dropoff_longitude'].values)\n",
        "\n",
        "\n",
        "df['direction'] = direction_array(nycc['pickup_latitude'].values, \n",
        "                                          nycc['pickup_longitude'].values, \n",
        "                                          nycc['dropoff_latitude'].values, \n",
        "                                          nycc['dropoff_longitude'].values)"
      ],
      "execution_count": 156,
      "outputs": []
    },
    {
      "cell_type": "markdown",
      "metadata": {
        "id": "hVxOeDKidatu"
      },
      "source": [
        "**Binning**\n",
        "\n",
        "The lattitude and longitude could be a bit noisy and it might be a good idea to bin them and create new features after rounding their values."
      ]
    },
    {
      "cell_type": "code",
      "metadata": {
        "id": "6R5zy_6Ob1rW"
      },
      "source": [
        "### Binned Coordinates ###\n",
        "nycc['pickup_latitude_round3'] = np.round(nycc['pickup_latitude'],3)\n",
        "nycc['pickup_longitude_round3'] = np.round(nycc['pickup_longitude'],3)\n",
        "\n",
        "nycc['dropoff_latitude_round3'] = np.round(nycc['dropoff_latitude'],3)\n",
        "nycc['dropoff_longitude_round3'] = np.round(nycc['dropoff_longitude'],3)"
      ],
      "execution_count": 157,
      "outputs": []
    },
    {
      "cell_type": "markdown",
      "metadata": {
        "id": "k9jcQ5UdeTpk"
      },
      "source": [
        "**One Hot Encoding**\n",
        "\n",
        "Here, Vendor ID can be converted to one hot encoding or frequency encoding since in the raw data it has values 1 and 2 without any inherent order."
      ]
    },
    {
      "cell_type": "code",
      "metadata": {
        "colab": {
          "base_uri": "https://localhost:8080/"
        },
        "id": "W3unHNc-eYSx",
        "outputId": "0c157199-fc47-4a12-e3fb-ccfb5d059df1"
      },
      "source": [
        "nycc.vendor_id.value_counts()"
      ],
      "execution_count": 158,
      "outputs": [
        {
          "output_type": "execute_result",
          "data": {
            "text/plain": [
              "2    776965\n",
              "1    675420\n",
              "Name: vendor_id, dtype: int64"
            ]
          },
          "metadata": {},
          "execution_count": 158
        }
      ]
    },
    {
      "cell_type": "markdown",
      "metadata": {
        "id": "fxzNl21Peekh"
      },
      "source": [
        "Now, there is not much difference in the frequencies of both and that might not make for an important feature. so we will just convert it to 0 and 1 by subtracting 1 from it"
      ]
    },
    {
      "cell_type": "code",
      "metadata": {
        "id": "7_9vyUuhdnN_"
      },
      "source": [
        "nycc['vendor_id'] = nycc['vendor_id'] - 1"
      ],
      "execution_count": 159,
      "outputs": []
    },
    {
      "cell_type": "code",
      "metadata": {
        "colab": {
          "base_uri": "https://localhost:8080/"
        },
        "id": "p50BxJt4eljB",
        "outputId": "18e19d92-2472-4ab1-c0db-7a599eaec30a"
      },
      "source": [
        "np.sum(pd.isnull(nycc))"
      ],
      "execution_count": 160,
      "outputs": [
        {
          "output_type": "execute_result",
          "data": {
            "text/plain": [
              "id                          0\n",
              "vendor_id                   0\n",
              "pickup_datetime             0\n",
              "dropoff_datetime            0\n",
              "passenger_count             0\n",
              "pickup_longitude            0\n",
              "pickup_latitude             0\n",
              "dropoff_longitude           0\n",
              "dropoff_latitude            0\n",
              "store_and_fwd_flag          0\n",
              "trip_duration               0\n",
              "check_trip_duration         0\n",
              "log_trip_duration           0\n",
              "day_of_week                 0\n",
              "hour_of_day                 0\n",
              "dist_sq                     0\n",
              "dist_sqrt                   0\n",
              "haversine_distance          0\n",
              "pickup_latitude_round3      0\n",
              "pickup_longitude_round3     0\n",
              "dropoff_latitude_round3     0\n",
              "dropoff_longitude_round3    0\n",
              "dtype: int64"
            ]
          },
          "metadata": {},
          "execution_count": 160
        }
      ]
    },
    {
      "cell_type": "markdown",
      "metadata": {
        "id": "3_fmqLudeyVY"
      },
      "source": [
        "\n",
        "Before we go on to build a model, we must drop the variables that should not be fed as features to the algorithms. We will drop\n",
        "\n",
        "* id - Uniquely represents a sample in the train set\n",
        "* pickup_datetime - Since we have extracted the datetime features, there is no need to keep the datetime column\n",
        "* dropoff_datetime - If this is used to create features, it would be a leakage and we will get perfect model performance. Why? The time gap between dropoff_datetime and pickup_datetime is essentially what we are trying to predict\n",
        "* trip_duration - This is the target variable so needs to be dropped\n",
        "* store_and_fwd_flag - This variable is not available before the start of the trip and should not be used for modelling."
      ]
    },
    {
      "cell_type": "code",
      "metadata": {
        "id": "JJLldMDyepEE"
      },
      "source": [
        "nycc = nycc.drop(['id', 'pickup_datetime', 'dropoff_datetime', 'trip_duration','store_and_fwd_flag'], axis=1)"
      ],
      "execution_count": 161,
      "outputs": []
    },
    {
      "cell_type": "markdown",
      "metadata": {
        "id": "fsAhPciLfJgz"
      },
      "source": [
        "# **Model Building**\n",
        "Now, before we go on to build the model, let us look at the dataset."
      ]
    },
    {
      "cell_type": "code",
      "metadata": {
        "colab": {
          "base_uri": "https://localhost:8080/",
          "height": 224
        },
        "id": "EEefj74nfDhF",
        "outputId": "7930214d-0fa0-4478-ca55-9b47dbac5c4b"
      },
      "source": [
        "nycc.head()"
      ],
      "execution_count": 162,
      "outputs": [
        {
          "output_type": "execute_result",
          "data": {
            "text/html": [
              "<div>\n",
              "<style scoped>\n",
              "    .dataframe tbody tr th:only-of-type {\n",
              "        vertical-align: middle;\n",
              "    }\n",
              "\n",
              "    .dataframe tbody tr th {\n",
              "        vertical-align: top;\n",
              "    }\n",
              "\n",
              "    .dataframe thead th {\n",
              "        text-align: right;\n",
              "    }\n",
              "</style>\n",
              "<table border=\"1\" class=\"dataframe\">\n",
              "  <thead>\n",
              "    <tr style=\"text-align: right;\">\n",
              "      <th></th>\n",
              "      <th>vendor_id</th>\n",
              "      <th>passenger_count</th>\n",
              "      <th>pickup_longitude</th>\n",
              "      <th>pickup_latitude</th>\n",
              "      <th>dropoff_longitude</th>\n",
              "      <th>dropoff_latitude</th>\n",
              "      <th>check_trip_duration</th>\n",
              "      <th>log_trip_duration</th>\n",
              "      <th>day_of_week</th>\n",
              "      <th>hour_of_day</th>\n",
              "      <th>dist_sq</th>\n",
              "      <th>dist_sqrt</th>\n",
              "      <th>haversine_distance</th>\n",
              "      <th>pickup_latitude_round3</th>\n",
              "      <th>pickup_longitude_round3</th>\n",
              "      <th>dropoff_latitude_round3</th>\n",
              "      <th>dropoff_longitude_round3</th>\n",
              "    </tr>\n",
              "  </thead>\n",
              "  <tbody>\n",
              "    <tr>\n",
              "      <th>0</th>\n",
              "      <td>1</td>\n",
              "      <td>1</td>\n",
              "      <td>-73.982155</td>\n",
              "      <td>40.767937</td>\n",
              "      <td>-73.964630</td>\n",
              "      <td>40.765602</td>\n",
              "      <td>455.0</td>\n",
              "      <td>6.122493</td>\n",
              "      <td>0</td>\n",
              "      <td>17</td>\n",
              "      <td>0.000313</td>\n",
              "      <td>0.017680</td>\n",
              "      <td>1.498521</td>\n",
              "      <td>40.768</td>\n",
              "      <td>-73.982</td>\n",
              "      <td>40.766</td>\n",
              "      <td>-73.965</td>\n",
              "    </tr>\n",
              "    <tr>\n",
              "      <th>1</th>\n",
              "      <td>0</td>\n",
              "      <td>1</td>\n",
              "      <td>-73.980415</td>\n",
              "      <td>40.738564</td>\n",
              "      <td>-73.999481</td>\n",
              "      <td>40.731152</td>\n",
              "      <td>663.0</td>\n",
              "      <td>6.498282</td>\n",
              "      <td>6</td>\n",
              "      <td>0</td>\n",
              "      <td>0.000418</td>\n",
              "      <td>0.020456</td>\n",
              "      <td>1.805507</td>\n",
              "      <td>40.739</td>\n",
              "      <td>-73.980</td>\n",
              "      <td>40.731</td>\n",
              "      <td>-73.999</td>\n",
              "    </tr>\n",
              "    <tr>\n",
              "      <th>2</th>\n",
              "      <td>1</td>\n",
              "      <td>1</td>\n",
              "      <td>-73.979027</td>\n",
              "      <td>40.763939</td>\n",
              "      <td>-74.005333</td>\n",
              "      <td>40.710087</td>\n",
              "      <td>2124.0</td>\n",
              "      <td>7.661527</td>\n",
              "      <td>1</td>\n",
              "      <td>11</td>\n",
              "      <td>0.003592</td>\n",
              "      <td>0.059934</td>\n",
              "      <td>6.385098</td>\n",
              "      <td>40.764</td>\n",
              "      <td>-73.979</td>\n",
              "      <td>40.710</td>\n",
              "      <td>-74.005</td>\n",
              "    </tr>\n",
              "    <tr>\n",
              "      <th>3</th>\n",
              "      <td>1</td>\n",
              "      <td>1</td>\n",
              "      <td>-74.010040</td>\n",
              "      <td>40.719971</td>\n",
              "      <td>-74.012268</td>\n",
              "      <td>40.706718</td>\n",
              "      <td>429.0</td>\n",
              "      <td>6.063785</td>\n",
              "      <td>2</td>\n",
              "      <td>19</td>\n",
              "      <td>0.000181</td>\n",
              "      <td>0.013438</td>\n",
              "      <td>1.485498</td>\n",
              "      <td>40.720</td>\n",
              "      <td>-74.010</td>\n",
              "      <td>40.707</td>\n",
              "      <td>-74.012</td>\n",
              "    </tr>\n",
              "    <tr>\n",
              "      <th>4</th>\n",
              "      <td>1</td>\n",
              "      <td>1</td>\n",
              "      <td>-73.973053</td>\n",
              "      <td>40.793209</td>\n",
              "      <td>-73.972923</td>\n",
              "      <td>40.782520</td>\n",
              "      <td>435.0</td>\n",
              "      <td>6.077642</td>\n",
              "      <td>5</td>\n",
              "      <td>13</td>\n",
              "      <td>0.000114</td>\n",
              "      <td>0.010690</td>\n",
              "      <td>1.188588</td>\n",
              "      <td>40.793</td>\n",
              "      <td>-73.973</td>\n",
              "      <td>40.783</td>\n",
              "      <td>-73.973</td>\n",
              "    </tr>\n",
              "  </tbody>\n",
              "</table>\n",
              "</div>"
            ],
            "text/plain": [
              "   vendor_id  ...  dropoff_longitude_round3\n",
              "0          1  ...                   -73.965\n",
              "1          0  ...                   -73.999\n",
              "2          1  ...                   -74.005\n",
              "3          1  ...                   -74.012\n",
              "4          1  ...                   -73.973\n",
              "\n",
              "[5 rows x 17 columns]"
            ]
          },
          "metadata": {},
          "execution_count": 162
        }
      ]
    },
    {
      "cell_type": "markdown",
      "metadata": {
        "id": "QsLK0TehfgOS"
      },
      "source": [
        "We have all numerical data types in our dataset now. Time to delve into model building. A very simple baseline could just be the mean of the values in the train set. Let's check the performance on that."
      ]
    },
    {
      "cell_type": "markdown",
      "metadata": {
        "id": "Sl3ZrkJNfquK"
      },
      "source": [
        "**Test Train Split**\n",
        "\n",
        "We have all numbers in our dataset now. Time to delve into model building. But before that, we need to finalise a validation strategy to create the train and test sets. Here, we will do a random split and keep one third of the data in test set and remaining two third of data in the train set"
      ]
    },
    {
      "cell_type": "code",
      "metadata": {
        "id": "sY2H6GLXfXUI"
      },
      "source": [
        "#Splitting the data into Train and Validation set\n",
        "xtrain, xtest, ytrain, ytest = train_test_split(nycc,df_y,test_size=1/3, random_state=0)"
      ],
      "execution_count": 163,
      "outputs": []
    },
    {
      "cell_type": "markdown",
      "metadata": {
        "id": "N2psfhUYf-ds"
      },
      "source": [
        "**Mean Prediction**\n",
        "\n",
        "Before we go on to try any machine learning model, let us look at the performance of a basic model that just says the mean of trip duration in the train set is the prediction for all the trips in the test set."
      ]
    },
    {
      "cell_type": "code",
      "metadata": {
        "colab": {
          "base_uri": "https://localhost:8080/"
        },
        "id": "f9ctJhZnf0pV",
        "outputId": "b3227e98-60e4-45f6-efe1-86bcbc34e32f"
      },
      "source": [
        "mean_pred = np.repeat(ytrain.mean(),len(ytest))\n",
        "\n",
        "sqrt(mean_squared_error(ytest, mean_pred))"
      ],
      "execution_count": 164,
      "outputs": [
        {
          "output_type": "execute_result",
          "data": {
            "text/plain": [
              "0.7903213744093935"
            ]
          },
          "metadata": {},
          "execution_count": 164
        }
      ]
    },
    {
      "cell_type": "markdown",
      "metadata": {
        "id": "j5uHDjScgKvj"
      },
      "source": [
        "\n",
        "**Cross validation**\n",
        "\n",
        "Cross Validation is one of the most important concepts in any type of data modelling. It simply says, try to leave a sample on which you do not train the model and test the model on this sample before finalizing the model.\n",
        "\n",
        "we divide the entire population into k equal samples. Now we train models on k-1 samples and validate on 1 sample. Then, at the second iteration we train the model with a different sample held as validation.\n",
        "\n",
        "In k iterations, we have basically built model on each sample and held each of them as validation. This is a way to reduce the selection bias and reduce the variance in prediction power.\n"
      ]
    },
    {
      "cell_type": "code",
      "metadata": {
        "id": "dJ597791gEgk"
      },
      "source": [
        "def cv_score(ml_model, rstate = 11,cols = nycc.columns):\n",
        "    i = 1\n",
        "    cv_scores = []\n",
        "    df1 = nycc.copy()\n",
        "    df1 = nycc[cols]\n",
        "    \n",
        "    kf = KFold(n_splits=5,random_state=rstate,shuffle=True)\n",
        "    for train_index,test_index in kf.split(df1,df_y):\n",
        "        print('\\n{} of kfold {}'.format(i,kf.n_splits))\n",
        "        xtr,xvl = df1.loc[train_index],df1.loc[test_index]\n",
        "        ytr,yvl = df_y[train_index],df_y[test_index]\n",
        "\n",
        "        model = ml_model\n",
        "        model.fit(xtr, ytr)\n",
        "        train_val = model.predict(xtr)\n",
        "        pred_val = model.predict(xvl)\n",
        "        rmse_score_train = sqrt(mean_squared_error(ytr, train_val))\n",
        "        rmse_score = sqrt(mean_squared_error(yvl, pred_val))\n",
        "        sufix = \"\"\n",
        "        msg = \"\"\n",
        "        #msg += \"Train RMSE: {:.5f} \".format(rmse_score_train)\n",
        "        msg += \"Valid RMSE: {:.5f}\".format(rmse_score)\n",
        "        print(\"{}\".format(msg))\n",
        "        # Save scores\n",
        "        cv_scores.append(rmse_score)\n",
        "        i+=1\n",
        "    return cv_scores"
      ],
      "execution_count": 165,
      "outputs": []
    },
    {
      "cell_type": "markdown",
      "metadata": {
        "id": "02VzCkoDgn5g"
      },
      "source": [
        "**Linear Regression**\n",
        "\n",
        "Lets begin by using the simplest regression algorithm Linear regression to check the performance."
      ]
    }
  ]
}