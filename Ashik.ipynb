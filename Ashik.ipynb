{
  "nbformat": 4,
  "nbformat_minor": 0,
  "metadata": {
    "colab": {
      "name": "Ashik.ipynb",
      "provenance": [],
      "collapsed_sections": [
        "Y06xIdG26kRF",
        "K81Vy_0ywMRw",
        "OsdMLaeswjF0",
        "iLjwD-Z5xtU0",
        "Mw3euTvY0MAz",
        "WGu4dJeQ5QUR",
        "vsQGWtr4456U",
        "gNdFeIvP9AJr",
        "kJzo80_QSLAV"
      ],
      "include_colab_link": true
    },
    "kernelspec": {
      "display_name": "Python 3",
      "language": "python",
      "name": "python3"
    },
    "language_info": {
      "codemirror_mode": {
        "name": "ipython",
        "version": 3
      },
      "file_extension": ".py",
      "mimetype": "text/x-python",
      "name": "python",
      "nbconvert_exporter": "python",
      "pygments_lexer": "ipython3",
      "version": "3.6.6"
    }
  },
  "cells": [
    {
      "cell_type": "markdown",
      "metadata": {
        "id": "view-in-github",
        "colab_type": "text"
      },
      "source": [
        "<a href=\"https://colab.research.google.com/github/Ashik9576/NYC-Taxi-Time-Prediction/blob/main/Ashik.ipynb\" target=\"_parent\"><img src=\"https://colab.research.google.com/assets/colab-badge.svg\" alt=\"Open In Colab\"/></a>"
      ]
    },
    {
      "cell_type": "markdown",
      "metadata": {
        "id": "tOGC-qoyhJeX"
      },
      "source": [
        "# <b><u> Project Title : Taxi trip time Prediction : Predicting total ride duration of taxi trips in New York City</u></b>"
      ]
    },
    {
      "cell_type": "markdown",
      "metadata": {
        "id": "Y06xIdG26kRF"
      },
      "source": [
        "## <b> Problem Description </b>\n",
        "\n",
        "### Your task is to build a model that predicts the total ride duration of taxi trips in New York City. Your primary dataset is one released by the NYC Taxi and Limousine Commission, which includes pickup time, geo-coordinates, number of passengers, and several other variables."
      ]
    },
    {
      "cell_type": "markdown",
      "metadata": {
        "id": "WWeU1f9bwqQq"
      },
      "source": [
        "## <b> Data Description </b>\n",
        "\n",
        "### The dataset is based on the 2016 NYC Yellow Cab trip record data made available in Big Query on Google Cloud Platform. The data was originally published by the NYC Taxi and Limousine Commission (TLC). The data was sampled and cleaned for the purposes of this project. Based on individual trip attributes, you should predict the duration of each trip in the test set.\n",
        "\n",
        "### <b>NYC Taxi Data.csv</b> - the training set (contains 1458644 trip records)\n",
        "\n",
        "\n",
        "### Data fields\n",
        "* #### id - a unique identifier for each trip\n",
        "* #### vendor_id - a code indicating the provider associated with the trip record\n",
        "* #### pickup_datetime - date and time when the meter was engaged\n",
        "* #### dropoff_datetime - date and time when the meter was disengaged\n",
        "* #### passenger_count - the number of passengers in the vehicle (driver entered value)\n",
        "* #### pickup_longitude - the longitude where the meter was engaged\n",
        "* #### pickup_latitude - the latitude where the meter was engaged\n",
        "* #### dropoff_longitude - the longitude where the meter was disengaged\n",
        "* #### dropoff_latitude - the latitude where the meter was disengaged\n",
        "* #### store_and_fwd_flag - This flag indicates whether the trip record was held in vehicle memory before sending to the vendor because the vehicle did not have a connection to the server - Y=store and forward; N=not a store and forward trip\n",
        "* #### trip_duration - duration of the trip in seconds"
      ]
    },
    {
      "cell_type": "markdown",
      "metadata": {
        "id": "K81Vy_0ywMRw"
      },
      "source": [
        "# **Imporing the required Libraries**"
      ]
    },
    {
      "cell_type": "code",
      "metadata": {
        "colab": {
          "base_uri": "https://localhost:8080/"
        },
        "id": "dByMsuzT8Tnw",
        "outputId": "29977795-534a-4c7d-a5b0-89ff2c5809d6"
      },
      "source": [
        "# Importing the libraries\n",
        "!pip install pycountry\n",
        "!pip install haversine\n",
        "\n",
        "import numpy as np\n",
        "import pandas as pd\n",
        "import matplotlib.pyplot as plt\n",
        "%matplotlib inline\n",
        "import seaborn as sns\n",
        "import pycountry as pc\n",
        "import matplotlib.ticker as mtick\n",
        "import plotly.express as px\n",
        "from numpy import math\n",
        "from math import sqrt\n",
        "from sklearn.preprocessing import MinMaxScaler\n",
        "from sklearn.model_selection import train_test_split\n",
        "from sklearn.linear_model import LinearRegression\n",
        "from sklearn.metrics import r2_score\n",
        "from sklearn.metrics import mean_squared_error\n",
        "from sklearn.tree import DecisionTreeRegressor\n",
        "from sklearn.linear_model import Ridge, Lasso\n",
        "from sklearn.model_selection import KFold\n",
        "from sklearn.neighbors import KNeighborsRegressor\n",
        "from datetime import datetime\n",
        "from sklearn.ensemble import RandomForestRegressor\n",
        "from sklearn import metrics\n",
        "from sklearn.model_selection import train_test_split, GridSearchCV\n",
        "from haversine import haversine\n",
        "from sklearn.model_selection import ShuffleSplit\n",
        "import warnings; warnings.simplefilter('ignore')"
      ],
      "execution_count": 88,
      "outputs": [
        {
          "output_type": "stream",
          "name": "stdout",
          "text": [
            "Requirement already satisfied: pycountry in /usr/local/lib/python3.7/dist-packages (20.7.3)\n",
            "Requirement already satisfied: haversine in /usr/local/lib/python3.7/dist-packages (2.5.1)\n"
          ]
        }
      ]
    },
    {
      "cell_type": "code",
      "metadata": {
        "colab": {
          "base_uri": "https://localhost:8080/"
        },
        "id": "K9sK-hnLYbJb",
        "outputId": "d192fb8b-5fc7-4112-87f4-9f117eb2f16d"
      },
      "source": [
        "# mounting drive\n",
        "from google.colab import drive\n",
        "drive.mount('/content/drive')"
      ],
      "execution_count": 53,
      "outputs": [
        {
          "output_type": "stream",
          "name": "stdout",
          "text": [
            "Drive already mounted at /content/drive; to attempt to forcibly remount, call drive.mount(\"/content/drive\", force_remount=True).\n"
          ]
        }
      ]
    },
    {
      "cell_type": "markdown",
      "metadata": {
        "id": "OsdMLaeswjF0"
      },
      "source": [
        "# **Loading Data**"
      ]
    },
    {
      "cell_type": "code",
      "metadata": {
        "id": "9E5Aj0J4Ybkl"
      },
      "source": [
        "# creating directory path\n",
        "nyc = pd.read_csv('/content/drive/MyDrive/NYC/NYC Taxi Data.csv')"
      ],
      "execution_count": 54,
      "outputs": []
    },
    {
      "cell_type": "markdown",
      "metadata": {
        "id": "3pEfbF_5y-wn"
      },
      "source": [
        "**Creating Copy of Data**"
      ]
    },
    {
      "cell_type": "code",
      "metadata": {
        "id": "mJSM7ljuYb5x"
      },
      "source": [
        "# creating a copy\n",
        "nycc=nyc.copy()"
      ],
      "execution_count": 55,
      "outputs": []
    },
    {
      "cell_type": "markdown",
      "metadata": {
        "id": "iLjwD-Z5xtU0"
      },
      "source": [
        "# **File Structure and content**"
      ]
    },
    {
      "cell_type": "code",
      "metadata": {
        "colab": {
          "base_uri": "https://localhost:8080/"
        },
        "id": "_C2AuHY-Yb13",
        "outputId": "57ba3f70-61ee-4e39-aeda-4ec9ccb7ecfc"
      },
      "source": [
        "#no. of row and column\n",
        "print(\"We have {} rows.\".format(nycc.shape[0]))\n",
        "print(\"We have {} columns.\".format(nycc.shape[1]))\n",
        "nycc.iloc[1,:]"
      ],
      "execution_count": 56,
      "outputs": [
        {
          "output_type": "stream",
          "name": "stdout",
          "text": [
            "We have 1458644 rows.\n",
            "We have 11 columns.\n"
          ]
        },
        {
          "output_type": "execute_result",
          "data": {
            "text/plain": [
              "id                              id2377394\n",
              "vendor_id                               1\n",
              "pickup_datetime       2016-06-12 00:43:35\n",
              "dropoff_datetime      2016-06-12 00:54:38\n",
              "passenger_count                         1\n",
              "pickup_longitude                 -73.9804\n",
              "pickup_latitude                   40.7386\n",
              "dropoff_longitude                -73.9995\n",
              "dropoff_latitude                  40.7312\n",
              "store_and_fwd_flag                      N\n",
              "trip_duration                         663\n",
              "Name: 1, dtype: object"
            ]
          },
          "metadata": {},
          "execution_count": 56
        }
      ]
    },
    {
      "cell_type": "markdown",
      "metadata": {
        "id": "NmqF3Fe9ztQJ"
      },
      "source": [
        "**At first galance, We have seen that the type of each variable and how they look like.**"
      ]
    },
    {
      "cell_type": "markdown",
      "metadata": {
        "id": "Mw3euTvY0MAz"
      },
      "source": [
        "# **MISSING VALUES**\n",
        "Knowing about missing values is important because they indicate how much we dont's know about our data. Making inferences based on just a few cases is often unwise. In addition, many modelling procedures break down when missing values are involved and the corresponding rows will either have to be removed completely or the values need to be estimated somehow.\n"
      ]
    },
    {
      "cell_type": "code",
      "metadata": {
        "colab": {
          "base_uri": "https://localhost:8080/"
        },
        "id": "LeU_fzc-nsgQ",
        "outputId": "9b743f2b-b947-40f6-83da-32111b47fc2e"
      },
      "source": [
        "#check null values in Data frame\n",
        "nyc.isnull().sum()\n"
      ],
      "execution_count": 57,
      "outputs": [
        {
          "output_type": "execute_result",
          "data": {
            "text/plain": [
              "id                    0\n",
              "vendor_id             0\n",
              "pickup_datetime       0\n",
              "dropoff_datetime      0\n",
              "passenger_count       0\n",
              "pickup_longitude      0\n",
              "pickup_latitude       0\n",
              "dropoff_longitude     0\n",
              "dropoff_latitude      0\n",
              "store_and_fwd_flag    0\n",
              "trip_duration         0\n",
              "dtype: int64"
            ]
          },
          "metadata": {},
          "execution_count": 57
        }
      ]
    },
    {
      "cell_type": "markdown",
      "metadata": {
        "id": "M0W7uKB22es1"
      },
      "source": [
        "**Fortunately, in this dataset we do not have any missing values which is great**"
      ]
    },
    {
      "cell_type": "markdown",
      "metadata": {
        "id": "WGu4dJeQ5QUR"
      },
      "source": [
        "# **Describing Dataset**"
      ]
    },
    {
      "cell_type": "code",
      "metadata": {
        "colab": {
          "base_uri": "https://localhost:8080/",
          "height": 0
        },
        "id": "bvfd-fswYb72",
        "outputId": "c6a6b9b0-4c26-4ffb-b875-4b1080f86809"
      },
      "source": [
        "# Visualizing the dataset\n",
        "nycc.head()"
      ],
      "execution_count": 58,
      "outputs": [
        {
          "output_type": "execute_result",
          "data": {
            "text/html": [
              "<div>\n",
              "<style scoped>\n",
              "    .dataframe tbody tr th:only-of-type {\n",
              "        vertical-align: middle;\n",
              "    }\n",
              "\n",
              "    .dataframe tbody tr th {\n",
              "        vertical-align: top;\n",
              "    }\n",
              "\n",
              "    .dataframe thead th {\n",
              "        text-align: right;\n",
              "    }\n",
              "</style>\n",
              "<table border=\"1\" class=\"dataframe\">\n",
              "  <thead>\n",
              "    <tr style=\"text-align: right;\">\n",
              "      <th></th>\n",
              "      <th>id</th>\n",
              "      <th>vendor_id</th>\n",
              "      <th>pickup_datetime</th>\n",
              "      <th>dropoff_datetime</th>\n",
              "      <th>passenger_count</th>\n",
              "      <th>pickup_longitude</th>\n",
              "      <th>pickup_latitude</th>\n",
              "      <th>dropoff_longitude</th>\n",
              "      <th>dropoff_latitude</th>\n",
              "      <th>store_and_fwd_flag</th>\n",
              "      <th>trip_duration</th>\n",
              "    </tr>\n",
              "  </thead>\n",
              "  <tbody>\n",
              "    <tr>\n",
              "      <th>0</th>\n",
              "      <td>id2875421</td>\n",
              "      <td>2</td>\n",
              "      <td>2016-03-14 17:24:55</td>\n",
              "      <td>2016-03-14 17:32:30</td>\n",
              "      <td>1</td>\n",
              "      <td>-73.982155</td>\n",
              "      <td>40.767937</td>\n",
              "      <td>-73.964630</td>\n",
              "      <td>40.765602</td>\n",
              "      <td>N</td>\n",
              "      <td>455</td>\n",
              "    </tr>\n",
              "    <tr>\n",
              "      <th>1</th>\n",
              "      <td>id2377394</td>\n",
              "      <td>1</td>\n",
              "      <td>2016-06-12 00:43:35</td>\n",
              "      <td>2016-06-12 00:54:38</td>\n",
              "      <td>1</td>\n",
              "      <td>-73.980415</td>\n",
              "      <td>40.738564</td>\n",
              "      <td>-73.999481</td>\n",
              "      <td>40.731152</td>\n",
              "      <td>N</td>\n",
              "      <td>663</td>\n",
              "    </tr>\n",
              "    <tr>\n",
              "      <th>2</th>\n",
              "      <td>id3858529</td>\n",
              "      <td>2</td>\n",
              "      <td>2016-01-19 11:35:24</td>\n",
              "      <td>2016-01-19 12:10:48</td>\n",
              "      <td>1</td>\n",
              "      <td>-73.979027</td>\n",
              "      <td>40.763939</td>\n",
              "      <td>-74.005333</td>\n",
              "      <td>40.710087</td>\n",
              "      <td>N</td>\n",
              "      <td>2124</td>\n",
              "    </tr>\n",
              "    <tr>\n",
              "      <th>3</th>\n",
              "      <td>id3504673</td>\n",
              "      <td>2</td>\n",
              "      <td>2016-04-06 19:32:31</td>\n",
              "      <td>2016-04-06 19:39:40</td>\n",
              "      <td>1</td>\n",
              "      <td>-74.010040</td>\n",
              "      <td>40.719971</td>\n",
              "      <td>-74.012268</td>\n",
              "      <td>40.706718</td>\n",
              "      <td>N</td>\n",
              "      <td>429</td>\n",
              "    </tr>\n",
              "    <tr>\n",
              "      <th>4</th>\n",
              "      <td>id2181028</td>\n",
              "      <td>2</td>\n",
              "      <td>2016-03-26 13:30:55</td>\n",
              "      <td>2016-03-26 13:38:10</td>\n",
              "      <td>1</td>\n",
              "      <td>-73.973053</td>\n",
              "      <td>40.793209</td>\n",
              "      <td>-73.972923</td>\n",
              "      <td>40.782520</td>\n",
              "      <td>N</td>\n",
              "      <td>435</td>\n",
              "    </tr>\n",
              "  </tbody>\n",
              "</table>\n",
              "</div>"
            ],
            "text/plain": [
              "          id  vendor_id  ... store_and_fwd_flag trip_duration\n",
              "0  id2875421          2  ...                  N           455\n",
              "1  id2377394          1  ...                  N           663\n",
              "2  id3858529          2  ...                  N          2124\n",
              "3  id3504673          2  ...                  N           429\n",
              "4  id2181028          2  ...                  N           435\n",
              "\n",
              "[5 rows x 11 columns]"
            ]
          },
          "metadata": {},
          "execution_count": 58
        }
      ]
    },
    {
      "cell_type": "code",
      "metadata": {
        "colab": {
          "base_uri": "https://localhost:8080/",
          "height": 0
        },
        "id": "hgdr3_3gYb0B",
        "outputId": "62586296-a926-4596-8dfb-b85875853932"
      },
      "source": [
        "# summery of dataframe\n",
        "nyc.describe()"
      ],
      "execution_count": 59,
      "outputs": [
        {
          "output_type": "execute_result",
          "data": {
            "text/html": [
              "<div>\n",
              "<style scoped>\n",
              "    .dataframe tbody tr th:only-of-type {\n",
              "        vertical-align: middle;\n",
              "    }\n",
              "\n",
              "    .dataframe tbody tr th {\n",
              "        vertical-align: top;\n",
              "    }\n",
              "\n",
              "    .dataframe thead th {\n",
              "        text-align: right;\n",
              "    }\n",
              "</style>\n",
              "<table border=\"1\" class=\"dataframe\">\n",
              "  <thead>\n",
              "    <tr style=\"text-align: right;\">\n",
              "      <th></th>\n",
              "      <th>vendor_id</th>\n",
              "      <th>passenger_count</th>\n",
              "      <th>pickup_longitude</th>\n",
              "      <th>pickup_latitude</th>\n",
              "      <th>dropoff_longitude</th>\n",
              "      <th>dropoff_latitude</th>\n",
              "      <th>trip_duration</th>\n",
              "    </tr>\n",
              "  </thead>\n",
              "  <tbody>\n",
              "    <tr>\n",
              "      <th>count</th>\n",
              "      <td>1.458644e+06</td>\n",
              "      <td>1.458644e+06</td>\n",
              "      <td>1.458644e+06</td>\n",
              "      <td>1.458644e+06</td>\n",
              "      <td>1.458644e+06</td>\n",
              "      <td>1.458644e+06</td>\n",
              "      <td>1.458644e+06</td>\n",
              "    </tr>\n",
              "    <tr>\n",
              "      <th>mean</th>\n",
              "      <td>1.534950e+00</td>\n",
              "      <td>1.664530e+00</td>\n",
              "      <td>-7.397349e+01</td>\n",
              "      <td>4.075092e+01</td>\n",
              "      <td>-7.397342e+01</td>\n",
              "      <td>4.075180e+01</td>\n",
              "      <td>9.594923e+02</td>\n",
              "    </tr>\n",
              "    <tr>\n",
              "      <th>std</th>\n",
              "      <td>4.987772e-01</td>\n",
              "      <td>1.314242e+00</td>\n",
              "      <td>7.090186e-02</td>\n",
              "      <td>3.288119e-02</td>\n",
              "      <td>7.064327e-02</td>\n",
              "      <td>3.589056e-02</td>\n",
              "      <td>5.237432e+03</td>\n",
              "    </tr>\n",
              "    <tr>\n",
              "      <th>min</th>\n",
              "      <td>1.000000e+00</td>\n",
              "      <td>0.000000e+00</td>\n",
              "      <td>-1.219333e+02</td>\n",
              "      <td>3.435970e+01</td>\n",
              "      <td>-1.219333e+02</td>\n",
              "      <td>3.218114e+01</td>\n",
              "      <td>1.000000e+00</td>\n",
              "    </tr>\n",
              "    <tr>\n",
              "      <th>25%</th>\n",
              "      <td>1.000000e+00</td>\n",
              "      <td>1.000000e+00</td>\n",
              "      <td>-7.399187e+01</td>\n",
              "      <td>4.073735e+01</td>\n",
              "      <td>-7.399133e+01</td>\n",
              "      <td>4.073588e+01</td>\n",
              "      <td>3.970000e+02</td>\n",
              "    </tr>\n",
              "    <tr>\n",
              "      <th>50%</th>\n",
              "      <td>2.000000e+00</td>\n",
              "      <td>1.000000e+00</td>\n",
              "      <td>-7.398174e+01</td>\n",
              "      <td>4.075410e+01</td>\n",
              "      <td>-7.397975e+01</td>\n",
              "      <td>4.075452e+01</td>\n",
              "      <td>6.620000e+02</td>\n",
              "    </tr>\n",
              "    <tr>\n",
              "      <th>75%</th>\n",
              "      <td>2.000000e+00</td>\n",
              "      <td>2.000000e+00</td>\n",
              "      <td>-7.396733e+01</td>\n",
              "      <td>4.076836e+01</td>\n",
              "      <td>-7.396301e+01</td>\n",
              "      <td>4.076981e+01</td>\n",
              "      <td>1.075000e+03</td>\n",
              "    </tr>\n",
              "    <tr>\n",
              "      <th>max</th>\n",
              "      <td>2.000000e+00</td>\n",
              "      <td>9.000000e+00</td>\n",
              "      <td>-6.133553e+01</td>\n",
              "      <td>5.188108e+01</td>\n",
              "      <td>-6.133553e+01</td>\n",
              "      <td>4.392103e+01</td>\n",
              "      <td>3.526282e+06</td>\n",
              "    </tr>\n",
              "  </tbody>\n",
              "</table>\n",
              "</div>"
            ],
            "text/plain": [
              "          vendor_id  passenger_count  ...  dropoff_latitude  trip_duration\n",
              "count  1.458644e+06     1.458644e+06  ...      1.458644e+06   1.458644e+06\n",
              "mean   1.534950e+00     1.664530e+00  ...      4.075180e+01   9.594923e+02\n",
              "std    4.987772e-01     1.314242e+00  ...      3.589056e-02   5.237432e+03\n",
              "min    1.000000e+00     0.000000e+00  ...      3.218114e+01   1.000000e+00\n",
              "25%    1.000000e+00     1.000000e+00  ...      4.073588e+01   3.970000e+02\n",
              "50%    2.000000e+00     1.000000e+00  ...      4.075452e+01   6.620000e+02\n",
              "75%    2.000000e+00     2.000000e+00  ...      4.076981e+01   1.075000e+03\n",
              "max    2.000000e+00     9.000000e+00  ...      4.392103e+01   3.526282e+06\n",
              "\n",
              "[8 rows x 7 columns]"
            ]
          },
          "metadata": {},
          "execution_count": 59
        }
      ]
    },
    {
      "cell_type": "code",
      "metadata": {
        "colab": {
          "base_uri": "https://localhost:8080/"
        },
        "id": "reatgjPP33rC",
        "outputId": "47bb4098-a78a-4dfc-bca7-b33db6e65495"
      },
      "source": [
        "nycc['store_and_fwd_flag'].value_counts()"
      ],
      "execution_count": 60,
      "outputs": [
        {
          "output_type": "execute_result",
          "data": {
            "text/plain": [
              "N    1450599\n",
              "Y       8045\n",
              "Name: store_and_fwd_flag, dtype: int64"
            ]
          },
          "metadata": {},
          "execution_count": 60
        }
      ]
    },
    {
      "cell_type": "code",
      "metadata": {
        "colab": {
          "base_uri": "https://localhost:8080/"
        },
        "id": "Y2teFJLz4v2q",
        "outputId": "5e1485eb-7e90-49f0-e3a9-99f4cf077ed4"
      },
      "source": [
        "nycc['passenger_count'].value_counts()"
      ],
      "execution_count": 61,
      "outputs": [
        {
          "output_type": "execute_result",
          "data": {
            "text/plain": [
              "1    1033540\n",
              "2     210318\n",
              "5      78088\n",
              "3      59896\n",
              "6      48333\n",
              "4      28404\n",
              "0         60\n",
              "7          3\n",
              "9          1\n",
              "8          1\n",
              "Name: passenger_count, dtype: int64"
            ]
          },
          "metadata": {},
          "execution_count": 61
        }
      ]
    },
    {
      "cell_type": "markdown",
      "metadata": {
        "id": "vsQGWtr4456U"
      },
      "source": [
        "# **Reformatting features**\n",
        "There are a variety of fratures within the dataset and it is important to convert them into the right format such that we can analyse them easily. This would include converting datetime features and string features.\n"
      ]
    },
    {
      "cell_type": "code",
      "metadata": {
        "id": "8u3VkscT6_iq"
      },
      "source": [
        "#converting string to datetime features\n",
        "nycc['pickup_datetime']=pd.to_datetime(nycc.pickup_datetime)\n",
        "nycc['dropoff_datetime']=pd.to_datetime(nycc.dropoff_datetime)\n",
        "\n",
        "#converting yes/no flag to 1 and 0\n",
        "nycc['store_and_fwd_flag']=1*(nycc.store_and_fwd_flag.values=='Y')"
      ],
      "execution_count": 62,
      "outputs": []
    },
    {
      "cell_type": "code",
      "metadata": {
        "colab": {
          "base_uri": "https://localhost:8080/",
          "height": 0
        },
        "id": "rB5EsMRk7rMF",
        "outputId": "c722dd0a-0faf-458a-e259-cff737caa192"
      },
      "source": [
        "nycc.head()"
      ],
      "execution_count": 63,
      "outputs": [
        {
          "output_type": "execute_result",
          "data": {
            "text/html": [
              "<div>\n",
              "<style scoped>\n",
              "    .dataframe tbody tr th:only-of-type {\n",
              "        vertical-align: middle;\n",
              "    }\n",
              "\n",
              "    .dataframe tbody tr th {\n",
              "        vertical-align: top;\n",
              "    }\n",
              "\n",
              "    .dataframe thead th {\n",
              "        text-align: right;\n",
              "    }\n",
              "</style>\n",
              "<table border=\"1\" class=\"dataframe\">\n",
              "  <thead>\n",
              "    <tr style=\"text-align: right;\">\n",
              "      <th></th>\n",
              "      <th>id</th>\n",
              "      <th>vendor_id</th>\n",
              "      <th>pickup_datetime</th>\n",
              "      <th>dropoff_datetime</th>\n",
              "      <th>passenger_count</th>\n",
              "      <th>pickup_longitude</th>\n",
              "      <th>pickup_latitude</th>\n",
              "      <th>dropoff_longitude</th>\n",
              "      <th>dropoff_latitude</th>\n",
              "      <th>store_and_fwd_flag</th>\n",
              "      <th>trip_duration</th>\n",
              "    </tr>\n",
              "  </thead>\n",
              "  <tbody>\n",
              "    <tr>\n",
              "      <th>0</th>\n",
              "      <td>id2875421</td>\n",
              "      <td>2</td>\n",
              "      <td>2016-03-14 17:24:55</td>\n",
              "      <td>2016-03-14 17:32:30</td>\n",
              "      <td>1</td>\n",
              "      <td>-73.982155</td>\n",
              "      <td>40.767937</td>\n",
              "      <td>-73.964630</td>\n",
              "      <td>40.765602</td>\n",
              "      <td>0</td>\n",
              "      <td>455</td>\n",
              "    </tr>\n",
              "    <tr>\n",
              "      <th>1</th>\n",
              "      <td>id2377394</td>\n",
              "      <td>1</td>\n",
              "      <td>2016-06-12 00:43:35</td>\n",
              "      <td>2016-06-12 00:54:38</td>\n",
              "      <td>1</td>\n",
              "      <td>-73.980415</td>\n",
              "      <td>40.738564</td>\n",
              "      <td>-73.999481</td>\n",
              "      <td>40.731152</td>\n",
              "      <td>0</td>\n",
              "      <td>663</td>\n",
              "    </tr>\n",
              "    <tr>\n",
              "      <th>2</th>\n",
              "      <td>id3858529</td>\n",
              "      <td>2</td>\n",
              "      <td>2016-01-19 11:35:24</td>\n",
              "      <td>2016-01-19 12:10:48</td>\n",
              "      <td>1</td>\n",
              "      <td>-73.979027</td>\n",
              "      <td>40.763939</td>\n",
              "      <td>-74.005333</td>\n",
              "      <td>40.710087</td>\n",
              "      <td>0</td>\n",
              "      <td>2124</td>\n",
              "    </tr>\n",
              "    <tr>\n",
              "      <th>3</th>\n",
              "      <td>id3504673</td>\n",
              "      <td>2</td>\n",
              "      <td>2016-04-06 19:32:31</td>\n",
              "      <td>2016-04-06 19:39:40</td>\n",
              "      <td>1</td>\n",
              "      <td>-74.010040</td>\n",
              "      <td>40.719971</td>\n",
              "      <td>-74.012268</td>\n",
              "      <td>40.706718</td>\n",
              "      <td>0</td>\n",
              "      <td>429</td>\n",
              "    </tr>\n",
              "    <tr>\n",
              "      <th>4</th>\n",
              "      <td>id2181028</td>\n",
              "      <td>2</td>\n",
              "      <td>2016-03-26 13:30:55</td>\n",
              "      <td>2016-03-26 13:38:10</td>\n",
              "      <td>1</td>\n",
              "      <td>-73.973053</td>\n",
              "      <td>40.793209</td>\n",
              "      <td>-73.972923</td>\n",
              "      <td>40.782520</td>\n",
              "      <td>0</td>\n",
              "      <td>435</td>\n",
              "    </tr>\n",
              "  </tbody>\n",
              "</table>\n",
              "</div>"
            ],
            "text/plain": [
              "          id  vendor_id  ... store_and_fwd_flag trip_duration\n",
              "0  id2875421          2  ...                  0           455\n",
              "1  id2377394          1  ...                  0           663\n",
              "2  id3858529          2  ...                  0          2124\n",
              "3  id3504673          2  ...                  0           429\n",
              "4  id2181028          2  ...                  0           435\n",
              "\n",
              "[5 rows x 11 columns]"
            ]
          },
          "metadata": {},
          "execution_count": 63
        }
      ]
    },
    {
      "cell_type": "markdown",
      "metadata": {
        "id": "gNdFeIvP9AJr"
      },
      "source": [
        "# **Target Exploration and Data Visualization**\n",
        "In this section we will take at the trip duration is the target variable. It is crucial to understand it in detail as this is what we ate trying to predict accurately."
      ]
    },
    {
      "cell_type": "code",
      "metadata": {
        "colab": {
          "base_uri": "https://localhost:8080/"
        },
        "id": "MUSBYOFw9xg8",
        "outputId": "c0379689-a39f-4739-9187-3a3ba6391bf8"
      },
      "source": [
        "nycc['trip_duration'].describe()/3600   # trip_duration in hour"
      ],
      "execution_count": 64,
      "outputs": [
        {
          "output_type": "execute_result",
          "data": {
            "text/plain": [
              "count    405.178889\n",
              "mean       0.266526\n",
              "std        1.454842\n",
              "min        0.000278\n",
              "25%        0.110278\n",
              "50%        0.183889\n",
              "75%        0.298611\n",
              "max      979.522778\n",
              "Name: trip_duration, dtype: float64"
            ]
          },
          "metadata": {},
          "execution_count": 64
        }
      ]
    },
    {
      "cell_type": "markdown",
      "metadata": {
        "id": "cx1On6EA-U6I"
      },
      "source": [
        "Hey! There is a trip with duration of 979 hours. This is a huge outlier and might create problem at the prediction stage. One idea is to log transform the trip duration before prediction to visualize it before."
      ]
    },
    {
      "cell_type": "code",
      "metadata": {
        "colab": {
          "base_uri": "https://localhost:8080/",
          "height": 369
        },
        "id": "VwEazREbR3Cs",
        "outputId": "14a2f67c-7dea-4da9-f611-ff292c6ead56"
      },
      "source": [
        "nycc['log_trip_duration']=np.log(nycc['trip_duration'].values+1)\n",
        "sns.displot(nycc['log_trip_duration'], kde=False, bins=500)\n",
        "plt.show()"
      ],
      "execution_count": 65,
      "outputs": [
        {
          "output_type": "display_data",
          "data": {
            "image/png": "[encoded data removed]",
            "text/plain": [
              "<Figure size 360x360 with 1 Axes>"
            ]
          },
          "metadata": {
            "needs_background": "light"
          }
        }
      ]
    },
    {
      "cell_type": "markdown",
      "metadata": {
        "id": "zZhEQkpyU5cv"
      },
      "source": [
        "1. There are several suspiciously short rides with less than 10 seconds duration\n",
        "2. As discussed earlier, there are few huge outliers near 12."
      ]
    },
    {
      "cell_type": "code",
      "metadata": {
        "colab": {
          "base_uri": "https://localhost:8080/",
          "height": 515
        },
        "id": "Pn5mQRFPUmTw",
        "outputId": "55f65f5e-bb40-48b3-8b8c-66337db779da"
      },
      "source": [
        "# Passenger count\n",
        "plt.figure(figsize=(10,5))\n",
        "sns.countplot(nycc['passenger_count'])\n",
        "plt.xlabel('Passenger Count')\n",
        "plt.ylabel('Frequency')\n",
        "\n",
        "dict(nycc['passenger_count'].value_counts())"
      ],
      "execution_count": 66,
      "outputs": [
        {
          "output_type": "execute_result",
          "data": {
            "text/plain": [
              "{0: 60,\n",
              " 1: 1033540,\n",
              " 2: 210318,\n",
              " 3: 59896,\n",
              " 4: 28404,\n",
              " 5: 78088,\n",
              " 6: 48333,\n",
              " 7: 3,\n",
              " 8: 1,\n",
              " 9: 1}"
            ]
          },
          "metadata": {},
          "execution_count": 66
        },
        {
          "output_type": "display_data",
          "data": {
            "image/png": "[encoded data removed]",
            "text/plain": [
              "<Figure size 720x360 with 1 Axes>"
            ]
          },
          "metadata": {
            "needs_background": "light"
          }
        }
      ]
    },
    {
      "cell_type": "markdown",
      "metadata": {
        "id": "jJ3wLAOlZMyX"
      },
      "source": [
        "**Most of the trip involves only 1 passenger. There are trips with 7-9 passenger but they are very low in nummber.**"
      ]
    },
    {
      "cell_type": "code",
      "metadata": {
        "colab": {
          "base_uri": "https://localhost:8080/",
          "height": 351
        },
        "id": "n9qTlKQ-WQOv",
        "outputId": "d7ece975-af3b-4c4d-b158-eb4312ff9c14"
      },
      "source": [
        "# Vendor count\n",
        "plt.figure(figsize=(10,5))\n",
        "sns.countplot(nycc['vendor_id'])\n",
        "plt.xlabel('Vendor ID')\n",
        "plt.ylabel('Frequency')"
      ],
      "execution_count": 67,
      "outputs": [
        {
          "output_type": "execute_result",
          "data": {
            "text/plain": [
              "Text(0, 0.5, 'Frequency')"
            ]
          },
          "metadata": {},
          "execution_count": 67
        },
        {
          "output_type": "display_data",
          "data": {
            "image/png": "[encoded data removed]",
            "text/plain": [
              "<Figure size 720x360 with 1 Axes>"
            ]
          },
          "metadata": {
            "needs_background": "light"
          }
        }
      ]
    },
    {
      "cell_type": "markdown",
      "metadata": {
        "id": "XNsBr33rZ4o2"
      },
      "source": [
        "**Vendor 2 has more number of trips as compare to vendor1.**"
      ]
    },
    {
      "cell_type": "code",
      "metadata": {
        "colab": {
          "base_uri": "https://localhost:8080/",
          "height": 397
        },
        "id": "HgAsBF3WXz9_",
        "outputId": "9fa3c637-72dd-4fc4-d6fb-10d7cf012dd8"
      },
      "source": [
        "# store and fwd flag count\n",
        "plt.figure(figsize=(10,5))\n",
        "sns.countplot(nycc['store_and_fwd_flag'])\n",
        "plt.xlabel('store_and_fwd_flag')\n",
        "plt.ylabel('Frequency')\n",
        "\n",
        "nycc['store_and_fwd_flag'].value_counts()"
      ],
      "execution_count": 68,
      "outputs": [
        {
          "output_type": "execute_result",
          "data": {
            "text/plain": [
              "0    1450599\n",
              "1       8045\n",
              "Name: store_and_fwd_flag, dtype: int64"
            ]
          },
          "metadata": {},
          "execution_count": 68
        },
        {
          "output_type": "display_data",
          "data": {
            "image/png": "[encoded data removed]",
            "text/plain": [
              "<Figure size 720x360 with 1 Axes>"
            ]
          },
          "metadata": {
            "needs_background": "light"
          }
        }
      ]
    },
    {
      "cell_type": "markdown",
      "metadata": {
        "id": "PJw1j4wuaSmr"
      },
      "source": [
        "**The store_and_fwd_flag values, indicating whether the trip data was sent immediately to the vendor('0') or held in the memory of the taxi because there was no connection to the server('1'), show that there was almost no storing taking place.**"
      ]
    },
    {
      "cell_type": "code",
      "metadata": {
        "id": "iTzKFdbPYL-H"
      },
      "source": [
        "# creating a new column(day_of_week) from the pickup_datetime column\n",
        "nycc['day_of_week']=nycc['pickup_datetime'].dt.weekday\n",
        "# creating a new column(hour_of_week) from the pickup_datetime column\n",
        "nycc['hour_of_week']=nycc['pickup_datetime'].dt.hour"
      ],
      "execution_count": 69,
      "outputs": []
    },
    {
      "cell_type": "code",
      "metadata": {
        "colab": {
          "base_uri": "https://localhost:8080/",
          "height": 351
        },
        "id": "E3WCuLNVdFNI",
        "outputId": "3ce063a5-c1bd-435c-a174-918d46f3aa0d"
      },
      "source": [
        "plt.figure(figsize=(10,5))\n",
        "sns.countplot(nycc['day_of_week'])\n",
        "plt.xlabel('Week Day')\n",
        "plt.ylabel('frequency')"
      ],
      "execution_count": 70,
      "outputs": [
        {
          "output_type": "execute_result",
          "data": {
            "text/plain": [
              "Text(0, 0.5, 'frequency')"
            ]
          },
          "metadata": {},
          "execution_count": 70
        },
        {
          "output_type": "display_data",
          "data": {
            "image/png": "[encoded data removed]",
            "text/plain": [
              "<Figure size 720x360 with 1 Axes>"
            ]
          },
          "metadata": {
            "needs_background": "light"
          }
        }
      ]
    },
    {
      "cell_type": "markdown",
      "metadata": {
        "id": "qfAL08XDi_l0"
      },
      "source": [
        "**Number of pickups for weekends is much lower than weeks days with a peak on Thurusday(4). Note that here weekday is a decimal number, where 0 is Sunday and 6 is Saturday**"
      ]
    },
    {
      "cell_type": "code",
      "metadata": {
        "colab": {
          "base_uri": "https://localhost:8080/",
          "height": 351
        },
        "id": "2hdD7O9udhUb",
        "outputId": "85d2b8ef-5461-48e9-bfda-5028854c30d1"
      },
      "source": [
        "plt.figure(figsize=(10,5))\n",
        "sns.countplot(nycc['hour_of_week'])\n",
        "plt.xlabel('hour of Day')\n",
        "plt.ylabel('frequency')"
      ],
      "execution_count": 71,
      "outputs": [
        {
          "output_type": "execute_result",
          "data": {
            "text/plain": [
              "Text(0, 0.5, 'frequency')"
            ]
          },
          "metadata": {},
          "execution_count": 71
        },
        {
          "output_type": "display_data",
          "data": {
            "image/png": "[encoded data removed]",
            "text/plain": [
              "<Figure size 720x360 with 1 Axes>"
            ]
          },
          "metadata": {
            "needs_background": "light"
          }
        }
      ]
    },
    {
      "cell_type": "markdown",
      "metadata": {
        "id": "D1o4s2Sdjysw"
      },
      "source": [
        "Number of pickups as expected is highest in late evening. However, it is much lower during the morning peak hours."
      ]
    },
    {
      "cell_type": "markdown",
      "metadata": {
        "id": "7hqqJz6skrLR"
      },
      "source": [
        "**Correlation Heatmap**\n",
        "\n",
        "Let us quickly look at the correlation heatmap to check the correlation amongst all features."
      ]
    },
    {
      "cell_type": "code",
      "metadata": {
        "colab": {
          "base_uri": "https://localhost:8080/"
        },
        "id": "T2HPYbvnp089",
        "outputId": "5fb86db7-ed91-4234-9560-2aaeb6eeebba"
      },
      "source": [
        "nycc.columns"
      ],
      "execution_count": 72,
      "outputs": [
        {
          "output_type": "execute_result",
          "data": {
            "text/plain": [
              "Index(['id', 'vendor_id', 'pickup_datetime', 'dropoff_datetime',\n",
              "       'passenger_count', 'pickup_longitude', 'pickup_latitude',\n",
              "       'dropoff_longitude', 'dropoff_latitude', 'store_and_fwd_flag',\n",
              "       'trip_duration', 'log_trip_duration', 'day_of_week', 'hour_of_week'],\n",
              "      dtype='object')"
            ]
          },
          "metadata": {},
          "execution_count": 72
        }
      ]
    },
    {
      "cell_type": "code",
      "metadata": {
        "colab": {
          "base_uri": "https://localhost:8080/",
          "height": 410
        },
        "id": "U1qVfYoydq4e",
        "outputId": "a3f5ceff-4aff-4362-ef5a-7519ea625ab4"
      },
      "source": [
        "plt.figure(figsize=(10,5))\n",
        "nycc=nycc.drop(['id','pickup_datetime','dropoff_datetime','passenger_count','trip_duration','log_trip_duration'], axis=1)\n",
        "corr=nycc.apply(lambda x: pd.factorize(x)[0]).corr()\n",
        "ax=sns.heatmap(corr,xticklabels=corr.columns, yticklabels=corr.columns, linewidths=0.2, cmap=\"YlGnBu\")"
      ],
      "execution_count": 73,
      "outputs": [
        {
          "output_type": "display_data",
          "data": {
            "image/png": "[encoded data removed]",
            "text/plain": [
              "<Figure size 720x360 with 2 Axes>"
            ]
          },
          "metadata": {
            "needs_background": "light"
          }
        }
      ]
    },
    {
      "cell_type": "markdown",
      "metadata": {
        "id": "kJzo80_QSLAV"
      },
      "source": [
        "# **Data Preprocessing & Features Extraction**\n",
        "We can only feed numeric features as input to our model. So our next task is to convert the features in numeric form. It is time to jump into getting our data ready for feeding into the model but before that it is important to use the variable to do some feature engineering.\n",
        "\n",
        "Some of my ideas to create new variables and the reasons are as follows.\n",
        "\n",
        "* Difference between pickup and dropoff latitude - will give as idea about the distance covered which could be predictive.\n",
        "* Difference between pickup and dropoff longitude - same reason as above.\n",
        "* Haversine distance between pickup and dropoff co-ordinate - to capture the actual distance travelled.\n",
        "* Pickup minutes - Since picksecond is an important but the minute of pickup might well have been predictive."
      ]
    },
    {
      "cell_type": "code",
      "metadata": {
        "id": "mDPdpdY6sV7M"
      },
      "source": [
        "df=nyc.copy()\n",
        "df.head()"
      ],
      "execution_count": null,
      "outputs": []
    },
    {
      "cell_type": "code",
      "metadata": {
        "id": "zLlHL_o1Cjn1"
      },
      "source": [
        "#converting string to datetime function\n",
        "df['pickup_datetime'] = pd.to_datetime(df.pickup_datetime)\n",
        "df['dropoff_datetime'] = pd.to_datetime(df.dropoff_datetime)\n"
      ],
      "execution_count": 75,
      "outputs": []
    },
    {
      "cell_type": "code",
      "metadata": {
        "id": "R3_Kk-dKV5tA"
      },
      "source": [
        "# log transformationn the Y value\n",
        "df_y= np.log1p(df['trip_duration'])\n",
        "\n",
        "# Add some datetime features\n",
        "df.loc[:,'pickup_weekday']=df['pickup_datetime'].dt.weekday\n",
        "df.loc[:,'pickup_hour_weekyear']=df['pickup_datetime'].dt.weekofyear\n",
        "df.loc[:,'pickup_hour']=df['pickup_datetime'].dt.hour\n",
        "df.loc[:,'pickup_minute']=df['pickup_datetime'].dt.minute\n",
        "df.loc[:,'pickup_dt']=(df['pickup_datetime'] - df['pickup_datetime'].min()).dt.total_seconds()\n",
        "df.loc[:,'pickup_week_hour']=df['pickup_weekday'] * 24 + df['pickup_hour']"
      ],
      "execution_count": 76,
      "outputs": []
    },
    {
      "cell_type": "markdown",
      "metadata": {
        "id": "TJVRP901fh4y"
      },
      "source": [
        "**Eucledian Distance** \n",
        "\n",
        "Let's calculate the eucledian distance between pickup and dropoff location to get some idea on how far the pickup and dropoff points are since this would definetely impact the trip duration even though we know that cars can't fly.\n"
      ]
    },
    {
      "cell_type": "code",
      "metadata": {
        "id": "k95MJiAHfgWc"
      },
      "source": [
        "#displacement\n",
        "y_dist= df['pickup_longitude'] - df['dropoff_longitude']\n",
        "x_dist= df['pickup_latitude'] - df['dropoff_latitude']\n",
        "\n",
        "# square distance\n",
        "df['dist_sq'] = (y_dist**2) + (x_dist**2)\n",
        "\n",
        "#distance\n",
        "df['dist_sqrt'] = df['dist_sq']**0.5"
      ],
      "execution_count": 77,
      "outputs": []
    },
    {
      "cell_type": "code",
      "metadata": {
        "id": "sk-hnnxXik_H"
      },
      "source": [
        "#calc_distance is a function to calculate distance between pickup and dropoff coordinates using Haversine formula.\n",
        "def calc_distance(df):\n",
        "    pickup = (df['pickup_latitude'], df['pickup_longitude'])\n",
        "    drop = (df['dropoff_latitude'], df['dropoff_longitude'])\n",
        "    return haversine(pickup, drop)"
      ],
      "execution_count": 78,
      "outputs": []
    },
    {
      "cell_type": "markdown",
      "metadata": {
        "id": "NxO9wL3fj1YU"
      },
      "source": [
        ""
      ]
    },
    {
      "cell_type": "code",
      "metadata": {
        "id": "vGuWNQN8ipXV"
      },
      "source": [
        "#Calculate distance and assign new column to the dataframe.\n",
        "df['distance'] = df.apply(lambda x: calc_distance(x), axis = 1)"
      ],
      "execution_count": 79,
      "outputs": []
    },
    {
      "cell_type": "markdown",
      "metadata": {
        "id": "2R8g2o8Hja9q"
      },
      "source": [
        "**BINNING**\n",
        "\n",
        "The latitude and longitude could be a bit noisy and it might be a good idea to bin them and create new features after rounding their values."
      ]
    },
    {
      "cell_type": "code",
      "metadata": {
        "id": "VB0-ZKCtj2YC"
      },
      "source": [
        "# Binned coordinates\n",
        "df['pickup_latitude_round3'] = np.round(df['pickup_latitude'],3)\n",
        "df['pickup_longitude_round3'] = np.round(df['pickup_longitude'],3)\n",
        "\n",
        "df['dropoff_latitude_round3'] = np.round(df['pickup_latitude'],3)\n",
        "df['dropoff_longitude_round3'] = np.round(df['dropoff_longitude'],3)"
      ],
      "execution_count": 80,
      "outputs": []
    },
    {
      "cell_type": "markdown",
      "metadata": {
        "id": "GfOpXcZWk4TN"
      },
      "source": [
        "**One Hot Encoding**\n",
        "\n",
        "Here, Vendor ID can be cinverted to one hot encoding or frequency encoding since in the raw data it has value 1 and 2 without any inherent order."
      ]
    },
    {
      "cell_type": "code",
      "metadata": {
        "colab": {
          "base_uri": "https://localhost:8080/"
        },
        "id": "DfXbtL4PlZsJ",
        "outputId": "d0b940c8-6be6-44a7-ad84-3ec961048071"
      },
      "source": [
        "df.vendor_id.value_counts()"
      ],
      "execution_count": 81,
      "outputs": [
        {
          "output_type": "execute_result",
          "data": {
            "text/plain": [
              "2    780302\n",
              "1    678342\n",
              "Name: vendor_id, dtype: int64"
            ]
          },
          "metadata": {},
          "execution_count": 81
        }
      ]
    },
    {
      "cell_type": "markdown",
      "metadata": {
        "id": "acQSHhDhlzx5"
      },
      "source": [
        "Now, there is no much difference in the frequencies of both and that might not make for an important fratures so we will just convert it to 0 and 1 by subtracting 1 from it."
      ]
    },
    {
      "cell_type": "code",
      "metadata": {
        "id": "LkIhrB4NmU1W"
      },
      "source": [
        "df['vendor_id']=df['vendor_id']-1"
      ],
      "execution_count": 82,
      "outputs": []
    },
    {
      "cell_type": "code",
      "metadata": {
        "colab": {
          "base_uri": "https://localhost:8080/"
        },
        "id": "Dw5of43rnjpS",
        "outputId": "ba251acc-d0bd-4579-ec56-b7fd8394ec8d"
      },
      "source": [
        "np.sum(pd.isnull(df))"
      ],
      "execution_count": 83,
      "outputs": [
        {
          "output_type": "execute_result",
          "data": {
            "text/plain": [
              "id                          0\n",
              "vendor_id                   0\n",
              "pickup_datetime             0\n",
              "dropoff_datetime            0\n",
              "passenger_count             0\n",
              "pickup_longitude            0\n",
              "pickup_latitude             0\n",
              "dropoff_longitude           0\n",
              "dropoff_latitude            0\n",
              "store_and_fwd_flag          0\n",
              "trip_duration               0\n",
              "pickup_weekday              0\n",
              "pickup_hour_weekyear        0\n",
              "pickup_hour                 0\n",
              "pickup_minute               0\n",
              "pickup_dt                   0\n",
              "pickup_week_hour            0\n",
              "dist_sq                     0\n",
              "dist_sqrt                   0\n",
              "distance                    0\n",
              "pickup_latitude_round3      0\n",
              "pickup_longitude_round3     0\n",
              "dropoff_latitude_round3     0\n",
              "dropoff_longitude_round3    0\n",
              "dtype: int64"
            ]
          },
          "metadata": {},
          "execution_count": 83
        }
      ]
    },
    {
      "cell_type": "markdown",
      "metadata": {
        "id": "lksk7SL6pIhZ"
      },
      "source": [
        "Before  we go on to build a model, we must drop the variables that should not be fed as features to the algorithm. we will drop\n",
        "\n",
        "* id -> Uniquely represented a sample in the train set.\n",
        "* pickup_datetime and dropoff_datetime -> Since we have extracted the datetime features, there is no need to keep the datetime column\n",
        "* trip_duratin -> this is the target variable so needs to dropped\n",
        "* store_and_fwd_flag -> this variable is not available before the start of the trip and should not be used for modelling"
      ]
    },
    {
      "cell_type": "code",
      "metadata": {
        "id": "3-_2P1tMnvxo"
      },
      "source": [
        "df=df.drop(['id','pickup_datetime','dropoff_datetime','trip_duration','store_and_fwd_flag'],axis=1)"
      ],
      "execution_count": 85,
      "outputs": []
    },
    {
      "cell_type": "code",
      "metadata": {
        "colab": {
          "base_uri": "https://localhost:8080/",
          "height": 224
        },
        "id": "vMCcyPSeZdbG",
        "outputId": "a7bba9ab-a21e-4647-e223-6f22e05f8189"
      },
      "source": [
        "df.head()"
      ],
      "execution_count": 86,
      "outputs": [
        {
          "output_type": "execute_result",
          "data": {
            "text/html": [
              "<div>\n",
              "<style scoped>\n",
              "    .dataframe tbody tr th:only-of-type {\n",
              "        vertical-align: middle;\n",
              "    }\n",
              "\n",
              "    .dataframe tbody tr th {\n",
              "        vertical-align: top;\n",
              "    }\n",
              "\n",
              "    .dataframe thead th {\n",
              "        text-align: right;\n",
              "    }\n",
              "</style>\n",
              "<table border=\"1\" class=\"dataframe\">\n",
              "  <thead>\n",
              "    <tr style=\"text-align: right;\">\n",
              "      <th></th>\n",
              "      <th>vendor_id</th>\n",
              "      <th>passenger_count</th>\n",
              "      <th>pickup_longitude</th>\n",
              "      <th>pickup_latitude</th>\n",
              "      <th>dropoff_longitude</th>\n",
              "      <th>dropoff_latitude</th>\n",
              "      <th>pickup_weekday</th>\n",
              "      <th>pickup_hour_weekyear</th>\n",
              "      <th>pickup_hour</th>\n",
              "      <th>pickup_minute</th>\n",
              "      <th>pickup_dt</th>\n",
              "      <th>pickup_week_hour</th>\n",
              "      <th>dist_sq</th>\n",
              "      <th>dist_sqrt</th>\n",
              "      <th>distance</th>\n",
              "      <th>pickup_latitude_round3</th>\n",
              "      <th>pickup_longitude_round3</th>\n",
              "      <th>dropoff_latitude_round3</th>\n",
              "      <th>dropoff_longitude_round3</th>\n",
              "    </tr>\n",
              "  </thead>\n",
              "  <tbody>\n",
              "    <tr>\n",
              "      <th>0</th>\n",
              "      <td>1</td>\n",
              "      <td>1</td>\n",
              "      <td>-73.982155</td>\n",
              "      <td>40.767937</td>\n",
              "      <td>-73.964630</td>\n",
              "      <td>40.765602</td>\n",
              "      <td>0</td>\n",
              "      <td>11</td>\n",
              "      <td>17</td>\n",
              "      <td>24</td>\n",
              "      <td>6369878.0</td>\n",
              "      <td>17</td>\n",
              "      <td>0.000313</td>\n",
              "      <td>0.017680</td>\n",
              "      <td>1.498523</td>\n",
              "      <td>40.768</td>\n",
              "      <td>-73.982</td>\n",
              "      <td>40.768</td>\n",
              "      <td>-73.965</td>\n",
              "    </tr>\n",
              "    <tr>\n",
              "      <th>1</th>\n",
              "      <td>0</td>\n",
              "      <td>1</td>\n",
              "      <td>-73.980415</td>\n",
              "      <td>40.738564</td>\n",
              "      <td>-73.999481</td>\n",
              "      <td>40.731152</td>\n",
              "      <td>6</td>\n",
              "      <td>23</td>\n",
              "      <td>0</td>\n",
              "      <td>43</td>\n",
              "      <td>14085798.0</td>\n",
              "      <td>144</td>\n",
              "      <td>0.000418</td>\n",
              "      <td>0.020456</td>\n",
              "      <td>1.805510</td>\n",
              "      <td>40.739</td>\n",
              "      <td>-73.980</td>\n",
              "      <td>40.739</td>\n",
              "      <td>-73.999</td>\n",
              "    </tr>\n",
              "    <tr>\n",
              "      <th>2</th>\n",
              "      <td>1</td>\n",
              "      <td>1</td>\n",
              "      <td>-73.979027</td>\n",
              "      <td>40.763939</td>\n",
              "      <td>-74.005333</td>\n",
              "      <td>40.710087</td>\n",
              "      <td>1</td>\n",
              "      <td>3</td>\n",
              "      <td>11</td>\n",
              "      <td>35</td>\n",
              "      <td>1596907.0</td>\n",
              "      <td>35</td>\n",
              "      <td>0.003592</td>\n",
              "      <td>0.059934</td>\n",
              "      <td>6.385107</td>\n",
              "      <td>40.764</td>\n",
              "      <td>-73.979</td>\n",
              "      <td>40.764</td>\n",
              "      <td>-74.005</td>\n",
              "    </tr>\n",
              "    <tr>\n",
              "      <th>3</th>\n",
              "      <td>1</td>\n",
              "      <td>1</td>\n",
              "      <td>-74.010040</td>\n",
              "      <td>40.719971</td>\n",
              "      <td>-74.012268</td>\n",
              "      <td>40.706718</td>\n",
              "      <td>2</td>\n",
              "      <td>14</td>\n",
              "      <td>19</td>\n",
              "      <td>32</td>\n",
              "      <td>8364734.0</td>\n",
              "      <td>67</td>\n",
              "      <td>0.000181</td>\n",
              "      <td>0.013438</td>\n",
              "      <td>1.485500</td>\n",
              "      <td>40.720</td>\n",
              "      <td>-74.010</td>\n",
              "      <td>40.720</td>\n",
              "      <td>-74.012</td>\n",
              "    </tr>\n",
              "    <tr>\n",
              "      <th>4</th>\n",
              "      <td>1</td>\n",
              "      <td>1</td>\n",
              "      <td>-73.973053</td>\n",
              "      <td>40.793209</td>\n",
              "      <td>-73.972923</td>\n",
              "      <td>40.782520</td>\n",
              "      <td>5</td>\n",
              "      <td>12</td>\n",
              "      <td>13</td>\n",
              "      <td>30</td>\n",
              "      <td>7392638.0</td>\n",
              "      <td>133</td>\n",
              "      <td>0.000114</td>\n",
              "      <td>0.010690</td>\n",
              "      <td>1.188590</td>\n",
              "      <td>40.793</td>\n",
              "      <td>-73.973</td>\n",
              "      <td>40.793</td>\n",
              "      <td>-73.973</td>\n",
              "    </tr>\n",
              "  </tbody>\n",
              "</table>\n",
              "</div>"
            ],
            "text/plain": [
              "   vendor_id  ...  dropoff_longitude_round3\n",
              "0          1  ...                   -73.965\n",
              "1          0  ...                   -73.999\n",
              "2          1  ...                   -74.005\n",
              "3          1  ...                   -74.012\n",
              "4          1  ...                   -73.973\n",
              "\n",
              "[5 rows x 19 columns]"
            ]
          },
          "metadata": {},
          "execution_count": 86
        }
      ]
    },
    {
      "cell_type": "markdown",
      "metadata": {
        "id": "2X41qEJmsDkU"
      },
      "source": [
        "# **MODEL BUILDING**"
      ]
    },
    {
      "cell_type": "code",
      "metadata": {
        "colab": {
          "base_uri": "https://localhost:8080/",
          "height": 224
        },
        "id": "OwHVjQV_bYfd",
        "outputId": "4d1950df-85bc-440f-e623-cb3dcc8efff2"
      },
      "source": [
        "df.head()"
      ],
      "execution_count": 87,
      "outputs": [
        {
          "output_type": "execute_result",
          "data": {
            "text/html": [
              "<div>\n",
              "<style scoped>\n",
              "    .dataframe tbody tr th:only-of-type {\n",
              "        vertical-align: middle;\n",
              "    }\n",
              "\n",
              "    .dataframe tbody tr th {\n",
              "        vertical-align: top;\n",
              "    }\n",
              "\n",
              "    .dataframe thead th {\n",
              "        text-align: right;\n",
              "    }\n",
              "</style>\n",
              "<table border=\"1\" class=\"dataframe\">\n",
              "  <thead>\n",
              "    <tr style=\"text-align: right;\">\n",
              "      <th></th>\n",
              "      <th>vendor_id</th>\n",
              "      <th>passenger_count</th>\n",
              "      <th>pickup_longitude</th>\n",
              "      <th>pickup_latitude</th>\n",
              "      <th>dropoff_longitude</th>\n",
              "      <th>dropoff_latitude</th>\n",
              "      <th>pickup_weekday</th>\n",
              "      <th>pickup_hour_weekyear</th>\n",
              "      <th>pickup_hour</th>\n",
              "      <th>pickup_minute</th>\n",
              "      <th>pickup_dt</th>\n",
              "      <th>pickup_week_hour</th>\n",
              "      <th>dist_sq</th>\n",
              "      <th>dist_sqrt</th>\n",
              "      <th>distance</th>\n",
              "      <th>pickup_latitude_round3</th>\n",
              "      <th>pickup_longitude_round3</th>\n",
              "      <th>dropoff_latitude_round3</th>\n",
              "      <th>dropoff_longitude_round3</th>\n",
              "    </tr>\n",
              "  </thead>\n",
              "  <tbody>\n",
              "    <tr>\n",
              "      <th>0</th>\n",
              "      <td>1</td>\n",
              "      <td>1</td>\n",
              "      <td>-73.982155</td>\n",
              "      <td>40.767937</td>\n",
              "      <td>-73.964630</td>\n",
              "      <td>40.765602</td>\n",
              "      <td>0</td>\n",
              "      <td>11</td>\n",
              "      <td>17</td>\n",
              "      <td>24</td>\n",
              "      <td>6369878.0</td>\n",
              "      <td>17</td>\n",
              "      <td>0.000313</td>\n",
              "      <td>0.017680</td>\n",
              "      <td>1.498523</td>\n",
              "      <td>40.768</td>\n",
              "      <td>-73.982</td>\n",
              "      <td>40.768</td>\n",
              "      <td>-73.965</td>\n",
              "    </tr>\n",
              "    <tr>\n",
              "      <th>1</th>\n",
              "      <td>0</td>\n",
              "      <td>1</td>\n",
              "      <td>-73.980415</td>\n",
              "      <td>40.738564</td>\n",
              "      <td>-73.999481</td>\n",
              "      <td>40.731152</td>\n",
              "      <td>6</td>\n",
              "      <td>23</td>\n",
              "      <td>0</td>\n",
              "      <td>43</td>\n",
              "      <td>14085798.0</td>\n",
              "      <td>144</td>\n",
              "      <td>0.000418</td>\n",
              "      <td>0.020456</td>\n",
              "      <td>1.805510</td>\n",
              "      <td>40.739</td>\n",
              "      <td>-73.980</td>\n",
              "      <td>40.739</td>\n",
              "      <td>-73.999</td>\n",
              "    </tr>\n",
              "    <tr>\n",
              "      <th>2</th>\n",
              "      <td>1</td>\n",
              "      <td>1</td>\n",
              "      <td>-73.979027</td>\n",
              "      <td>40.763939</td>\n",
              "      <td>-74.005333</td>\n",
              "      <td>40.710087</td>\n",
              "      <td>1</td>\n",
              "      <td>3</td>\n",
              "      <td>11</td>\n",
              "      <td>35</td>\n",
              "      <td>1596907.0</td>\n",
              "      <td>35</td>\n",
              "      <td>0.003592</td>\n",
              "      <td>0.059934</td>\n",
              "      <td>6.385107</td>\n",
              "      <td>40.764</td>\n",
              "      <td>-73.979</td>\n",
              "      <td>40.764</td>\n",
              "      <td>-74.005</td>\n",
              "    </tr>\n",
              "    <tr>\n",
              "      <th>3</th>\n",
              "      <td>1</td>\n",
              "      <td>1</td>\n",
              "      <td>-74.010040</td>\n",
              "      <td>40.719971</td>\n",
              "      <td>-74.012268</td>\n",
              "      <td>40.706718</td>\n",
              "      <td>2</td>\n",
              "      <td>14</td>\n",
              "      <td>19</td>\n",
              "      <td>32</td>\n",
              "      <td>8364734.0</td>\n",
              "      <td>67</td>\n",
              "      <td>0.000181</td>\n",
              "      <td>0.013438</td>\n",
              "      <td>1.485500</td>\n",
              "      <td>40.720</td>\n",
              "      <td>-74.010</td>\n",
              "      <td>40.720</td>\n",
              "      <td>-74.012</td>\n",
              "    </tr>\n",
              "    <tr>\n",
              "      <th>4</th>\n",
              "      <td>1</td>\n",
              "      <td>1</td>\n",
              "      <td>-73.973053</td>\n",
              "      <td>40.793209</td>\n",
              "      <td>-73.972923</td>\n",
              "      <td>40.782520</td>\n",
              "      <td>5</td>\n",
              "      <td>12</td>\n",
              "      <td>13</td>\n",
              "      <td>30</td>\n",
              "      <td>7392638.0</td>\n",
              "      <td>133</td>\n",
              "      <td>0.000114</td>\n",
              "      <td>0.010690</td>\n",
              "      <td>1.188590</td>\n",
              "      <td>40.793</td>\n",
              "      <td>-73.973</td>\n",
              "      <td>40.793</td>\n",
              "      <td>-73.973</td>\n",
              "    </tr>\n",
              "  </tbody>\n",
              "</table>\n",
              "</div>"
            ],
            "text/plain": [
              "   vendor_id  ...  dropoff_longitude_round3\n",
              "0          1  ...                   -73.965\n",
              "1          0  ...                   -73.999\n",
              "2          1  ...                   -74.005\n",
              "3          1  ...                   -74.012\n",
              "4          1  ...                   -73.973\n",
              "\n",
              "[5 rows x 19 columns]"
            ]
          },
          "metadata": {},
          "execution_count": 87
        }
      ]
    },
    {
      "cell_type": "markdown",
      "metadata": {
        "id": "Z3_Ghn80u97G"
      },
      "source": [
        "# **Test Train split**\n",
        "We have all numbers in our dataset now. Time to delve into model building. But before that, we need to finalize a validation strategy to create the train and test sets. Here, we will do a random split and keep one third of the data in test set and remaining two third of sata in the train set."
      ]
    },
    {
      "cell_type": "code",
      "metadata": {
        "id": "kmdkWbf4sm9Q"
      },
      "source": [
        "xtrain, xtest, ytrain, ytest = train_test_split(df, df_y,test_size=1/3, random_state=0)"
      ],
      "execution_count": 89,
      "outputs": []
    },
    {
      "cell_type": "code",
      "metadata": {
        "colab": {
          "base_uri": "https://localhost:8080/"
        },
        "id": "7Gw0v8vhxALR",
        "outputId": "7bcfad6e-3c7d-4f63-a373-969258a8736a"
      },
      "source": [
        "mean_pred = np.repeat(ytrain.mean(),len(ytest))\n",
        "sqrt(mean_squared_error(ytest,mean_pred))"
      ],
      "execution_count": 91,
      "outputs": [
        {
          "output_type": "execute_result",
          "data": {
            "text/plain": [
              "0.7932210515663911"
            ]
          },
          "metadata": {},
          "execution_count": 91
        }
      ]
    },
    {
      "cell_type": "code",
      "metadata": {
        "id": "Cf--wEVGxS5F"
      },
      "source": [
        "# Transforming data\n",
        "scaler = MinMaxScaler()\n",
        "xtrain = scaler.fit_transform(xtrain)\n",
        "xtest = scaler.transform(xtest)"
      ],
      "execution_count": 92,
      "outputs": []
    },
    {
      "cell_type": "code",
      "metadata": {
        "colab": {
          "base_uri": "https://localhost:8080/"
        },
        "id": "9kMgwQ5Nx4Bf",
        "outputId": "01edec67-4a46-465a-c42e-dd81b3a6e0e5"
      },
      "source": [
        "# Fitting Multiple Linear Regression to the Training set\n",
        "regressor = LinearRegression()\n",
        "regressor.fit(xtrain, ytrain)"
      ],
      "execution_count": 93,
      "outputs": [
        {
          "output_type": "execute_result",
          "data": {
            "text/plain": [
              "LinearRegression(copy_X=True, fit_intercept=True, n_jobs=None, normalize=False)"
            ]
          },
          "metadata": {},
          "execution_count": 93
        }
      ]
    },
    {
      "cell_type": "code",
      "metadata": {
        "colab": {
          "base_uri": "https://localhost:8080/"
        },
        "id": "glQocFBdx-1M",
        "outputId": "6d48e949-a484-4b4e-8fc1-bb15195afdd1"
      },
      "source": [
        "regressor.intercept_"
      ],
      "execution_count": 94,
      "outputs": [
        {
          "output_type": "execute_result",
          "data": {
            "text/plain": [
              "27.308860241663822"
            ]
          },
          "metadata": {},
          "execution_count": 94
        }
      ]
    },
    {
      "cell_type": "code",
      "metadata": {
        "colab": {
          "base_uri": "https://localhost:8080/"
        },
        "id": "J4ysE61VyDaB",
        "outputId": "9491437e-eb92-4da1-be6d-9496c525f2db"
      },
      "source": [
        "regressor.coef_"
      ],
      "execution_count": 95,
      "outputs": [
        {
          "output_type": "execute_result",
          "data": {
            "text/plain": [
              "array([ 1.78574774e-02,  5.74910032e-02, -4.11640817e+02,  1.29405316e+02,\n",
              "        1.44609713e+02, -1.18035979e+01, -2.03874031e+13, -1.08760692e-01,\n",
              "       -3.25632133e+12, -1.08307278e-02,  1.47980310e-01,  2.36437244e+13,\n",
              "       -1.44839114e+02, -8.19114663e+01,  2.01729676e+02,  3.06268440e+08,\n",
              "        3.86959964e+02, -3.06268557e+08, -1.45990744e+02])"
            ]
          },
          "metadata": {},
          "execution_count": 95
        }
      ]
    },
    {
      "cell_type": "code",
      "metadata": {
        "id": "pR7FVJamy77P"
      },
      "source": [
        ""
      ],
      "execution_count": null,
      "outputs": []
    },
    {
      "cell_type": "code",
      "metadata": {
        "id": "Ip3maIH1y79a"
      },
      "source": [
        "y_pred_train = regressor.predict(xtrain)"
      ],
      "execution_count": 99,
      "outputs": []
    },
    {
      "cell_type": "code",
      "metadata": {
        "id": "vkgcRrAsyF-n"
      },
      "source": [
        "# Predicting the Test set results\n",
        "ypred = regressor.predict(xtest)"
      ],
      "execution_count": 96,
      "outputs": []
    },
    {
      "cell_type": "code",
      "metadata": {
        "colab": {
          "base_uri": "https://localhost:8080/"
        },
        "id": "sA2kVPeuyVsM",
        "outputId": "d170987b-903c-477e-9974-64e42ae1d639"
      },
      "source": [
        "mean_squared_error(ytest, ypred)"
      ],
      "execution_count": 97,
      "outputs": [
        {
          "output_type": "execute_result",
          "data": {
            "text/plain": [
              "0.37055410063881666"
            ]
          },
          "metadata": {},
          "execution_count": 97
        }
      ]
    },
    {
      "cell_type": "code",
      "metadata": {
        "colab": {
          "base_uri": "https://localhost:8080/"
        },
        "id": "P6UkmDOeybHq",
        "outputId": "c04a3740-a9b6-4368-d16e-87c9e7a18f40"
      },
      "source": [
        "# Train performance\n",
        "math.sqrt(mean_squared_error(ytrain, y_pred_train))"
      ],
      "execution_count": 100,
      "outputs": [
        {
          "output_type": "execute_result",
          "data": {
            "text/plain": [
              "0.6175003699907595"
            ]
          },
          "metadata": {},
          "execution_count": 100
        }
      ]
    },
    {
      "cell_type": "code",
      "metadata": {
        "colab": {
          "base_uri": "https://localhost:8080/"
        },
        "id": "j1AO2n3JyiOP",
        "outputId": "92b389e7-511c-482b-90fe-c3889a584969"
      },
      "source": [
        "# Test performance\n",
        "math.sqrt(mean_squared_error(ytest, ypred))"
      ],
      "execution_count": 102,
      "outputs": [
        {
          "output_type": "execute_result",
          "data": {
            "text/plain": [
              "0.608731550553129"
            ]
          },
          "metadata": {},
          "execution_count": 102
        }
      ]
    },
    {
      "cell_type": "code",
      "metadata": {
        "colab": {
          "base_uri": "https://localhost:8080/"
        },
        "id": "kh5JRDoYzFVv",
        "outputId": "da7dc6af-b00a-494d-f3c2-7c72b3510b9b"
      },
      "source": [
        "r2_score(ytrain, y_pred_train)"
      ],
      "execution_count": 103,
      "outputs": [
        {
          "output_type": "execute_result",
          "data": {
            "text/plain": [
              "0.3997526853141109"
            ]
          },
          "metadata": {},
          "execution_count": 103
        }
      ]
    },
    {
      "cell_type": "code",
      "metadata": {
        "colab": {
          "base_uri": "https://localhost:8080/"
        },
        "id": "cavqW_HSzNO2",
        "outputId": "e0a273c7-da14-44c8-bfc9-5ca895447555"
      },
      "source": [
        "r2_score(ytest, ypred)"
      ],
      "execution_count": 104,
      "outputs": [
        {
          "output_type": "execute_result",
          "data": {
            "text/plain": [
              "0.41107066485770505"
            ]
          },
          "metadata": {},
          "execution_count": 104
        }
      ]
    },
    {
      "cell_type": "code",
      "metadata": {
        "id": "x6rI1NyPzSRz"
      },
      "source": [
        ""
      ],
      "execution_count": null,
      "outputs": []
    }
  ]
}